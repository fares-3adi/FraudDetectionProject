{
  "nbformat": 4,
  "nbformat_minor": 0,
  "metadata": {
    "colab": {
      "provenance": [],
      "mount_file_id": "1ZKMa7oq8vsL8bJJtK1p2qBgKnJCmWf63",
      "authorship_tag": "ABX9TyNOeH6BnNKvHtMIQYvQeH2A",
      "include_colab_link": true
    },
    "kernelspec": {
      "name": "python3",
      "display_name": "Python 3"
    },
    "language_info": {
      "name": "python"
    }
  },
  "cells": [
    {
      "cell_type": "markdown",
      "metadata": {
        "id": "view-in-github",
        "colab_type": "text"
      },
      "source": [
        "<a href=\"https://colab.research.google.com/github/fares-3adi/FraudDetectionProject/blob/main/CS3IP.ipynb\" target=\"_parent\"><img src=\"https://colab.research.google.com/assets/colab-badge.svg\" alt=\"Open In Colab\"/></a>"
      ]
    },
    {
      "cell_type": "markdown",
      "source": [
        "# **Credit Card Fraud Detection Using Machine Learning**"
      ],
      "metadata": {
        "id": "i4FZ2lRItZji"
      }
    },
    {
      "cell_type": "code",
      "source": [
        "# test entry"
      ],
      "metadata": {
        "id": "SnOoj8o6GH3c"
      },
      "execution_count": null,
      "outputs": []
    }
  ]
}