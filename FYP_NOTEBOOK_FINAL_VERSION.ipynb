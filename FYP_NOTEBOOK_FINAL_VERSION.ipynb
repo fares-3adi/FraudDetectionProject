{
  "cells": [
    {
      "cell_type": "markdown",
      "metadata": {
        "id": "view-in-github",
        "colab_type": "text"
      },
      "source": [
        "<a href=\"https://colab.research.google.com/github/fares-3adi/FraudDetectionProject/blob/main/FYP_NOTEBOOK_FINAL_VERSION.ipynb\" target=\"_parent\"><img src=\"https://colab.research.google.com/assets/colab-badge.svg\" alt=\"Open In Colab\"/></a>"
      ]
    },
    {
      "cell_type": "markdown",
      "metadata": {
        "id": "i4FZ2lRItZji"
      },
      "source": [
        "# **Credit Card Fraud Detection Using Supervised Machine Learning**"
      ]
    },
    {
      "cell_type": "markdown",
      "metadata": {
        "id": "aVhZwFiLIteE"
      },
      "source": [
        "## Initial Imports"
      ]
    },
    {
      "cell_type": "code",
      "execution_count": 1,
      "metadata": {
        "id": "SnOoj8o6GH3c"
      },
      "outputs": [],
      "source": [
        "import numpy as np\n",
        "import pandas as pd\n",
        "import matplotlib.pyplot as plt\n",
        "\n",
        "from sklearn.preprocessing import StandardScaler\n",
        "from sklearn.preprocessing import RobustScaler\n",
        "from sklearn.metrics import classification_report\n",
        "from sklearn.model_selection import train_test_split\n",
        "\n",
        "from imblearn.over_sampling import SMOTE\n",
        "from imblearn.over_sampling import RandomOverSampler"
      ]
    },
    {
      "cell_type": "markdown",
      "metadata": {
        "id": "Sd1ugoIdJeTr"
      },
      "source": [
        "## Dataset and Acknowledgements\n",
        "\n",
        "The dataset contains transactions made by credit cards in September 2013 by European cardholders.\n",
        "This dataset presents transactions that occurred in two days, where we have 492 frauds out of 284,807 transactions. The dataset is highly unbalanced, the positive class (frauds) account for 0.172% of all transactions.\n",
        "\n",
        "Link to Dataset: https://www.openml.org/search?type=data&status=active&id=42175\n",
        "\n",
        "Citations:\n",
        "Andrea Dal Pozzolo, Olivier Caelen, Reid A. Johnson and Gianluca Bontempi. Calibrating Probability with Undersampling for Unbalanced Classification. In Symposium on Computational Intelligence and Data Mining (CIDM), IEEE, 2015\n",
        "\n",
        "Dal Pozzolo, Andrea; Caelen, Olivier; Le Borgne, Yann-Ael; Waterschoot, Serge; Bontempi, Gianluca. Learned lessons in credit card fraud detection from a practitioner perspective, Expert systems with applications,41,10,4915-4928,2014, Pergamon\n",
        "\n",
        "Dal Pozzolo, Andrea; Boracchi, Giacomo; Caelen, Olivier; Alippi, Cesare; Bontempi, Gianluca. Credit card fraud detection: a realistic modeling and a novel learning strategy, IEEE transactions on neural networks and learning systems,29,8,3784-3797,2018,IEEE\n",
        "\n",
        "Dal Pozzolo, Andrea Adaptive Machine learning for credit card fraud detection ULB MLG PhD thesis (supervised by G. Bontempi)\n",
        "\n",
        "Carcillo, Fabrizio; Dal Pozzolo, Andrea; Le Borgne, Yann-Ael; Caelen, Olivier; Mazzer, Yannis; Bontempi, Gianluca. Scarff: a scalable framework for streaming credit card fraud detection with Spark, Information fusion,41, 182-194,2018,Elsevier\n",
        "\n",
        "Carcillo, Fabrizio; Le Borgne, Yann-Ael; Caelen, Olivier; Bontempi, Gianluca. Streaming active learning strategies for real-life credit card fraud detection: assessment and visualization, International Journal of Data Science and Analytics, 5,4,285-300,2018,Springer International Publishing\n",
        "\n",
        "Bertrand Lebichot, Yann-Ael Le Borgne, Liyun He, Frederic Oble, Gianluca Bontempi Deep-Learning Domain Adaptation Techniques for Credit Cards Fraud Detection, INNSBDDL 2019: Recent Advances in Big Data and Deep Learning, pp 78-88, 2019\n",
        "\n",
        "Fabrizio Carcillo, Yann-Ael Le Borgne, Olivier Caelen, Frederic Oble, Gianluca Bontempi Combining Unsupervised and Supervised Learning in Credit Card Fraud Detection Information Sciences, 2019."
      ]
    },
    {
      "cell_type": "code",
      "execution_count": 2,
      "metadata": {
        "colab": {
          "base_uri": "https://localhost:8080/"
        },
        "id": "1aqq_HZv6mUa",
        "outputId": "178c0980-0b2d-472b-ac89-cdc47589ccf7"
      },
      "outputs": [
        {
          "output_type": "stream",
          "name": "stdout",
          "text": [
            "Drive already mounted at /content/drive; to attempt to forcibly remount, call drive.mount(\"/content/drive\", force_remount=True).\n"
          ]
        }
      ],
      "source": [
        "from google.colab import drive\n",
        "drive.mount('/content/drive')\n",
        "\n",
        "# Loading the dataset directly from google drive to avoid\n",
        "# not fully loading it\n",
        "import pandas as pd\n",
        "df = pd.read_csv('/content/drive/My Drive/Colab/CS3IP/creditcard.csv')"
      ]
    },
    {
      "cell_type": "markdown",
      "metadata": {
        "id": "b-PWTcIuKkkT"
      },
      "source": [
        "For reference: The column names are Time, V1 ... V28, Amount, and Class"
      ]
    },
    {
      "cell_type": "code",
      "execution_count": 3,
      "metadata": {
        "colab": {
          "base_uri": "https://localhost:8080/",
          "height": 255
        },
        "id": "-AAwfLehPCbs",
        "outputId": "fd5e09b8-c613-4cb9-d101-4cbe33496e79"
      },
      "outputs": [
        {
          "output_type": "execute_result",
          "data": {
            "text/plain": [
              "            Time         V1         V2        V3        V4        V5  \\\n",
              "284802  172786.0 -11.881118  10.071785 -9.834783 -2.066656 -5.364473   \n",
              "284803  172787.0  -0.732789  -0.055080  2.035030 -0.738589  0.868229   \n",
              "284804  172788.0   1.919565  -0.301254 -3.249640 -0.557828  2.630515   \n",
              "284805  172788.0  -0.240440   0.530483  0.702510  0.689799 -0.377961   \n",
              "284806  172792.0  -0.533413  -0.189733  0.703337 -0.506271 -0.012546   \n",
              "\n",
              "              V6        V7        V8        V9  ...       V21       V22  \\\n",
              "284802 -2.606837 -4.918215  7.305334  1.914428  ...  0.213454  0.111864   \n",
              "284803  1.058415  0.024330  0.294869  0.584800  ...  0.214205  0.924384   \n",
              "284804  3.031260 -0.296827  0.708417  0.432454  ...  0.232045  0.578229   \n",
              "284805  0.623708 -0.686180  0.679145  0.392087  ...  0.265245  0.800049   \n",
              "284806 -0.649617  1.577006 -0.414650  0.486180  ...  0.261057  0.643078   \n",
              "\n",
              "             V23       V24       V25       V26       V27       V28  Amount  \\\n",
              "284802  1.014480 -0.509348  1.436807  0.250034  0.943651  0.823731    0.77   \n",
              "284803  0.012463 -1.016226 -0.606624 -0.395255  0.068472 -0.053527   24.79   \n",
              "284804 -0.037501  0.640134  0.265745 -0.087371  0.004455 -0.026561   67.88   \n",
              "284805 -0.163298  0.123205 -0.569159  0.546668  0.108821  0.104533   10.00   \n",
              "284806  0.376777  0.008797 -0.473649 -0.818267 -0.002415  0.013649  217.00   \n",
              "\n",
              "        Class  \n",
              "284802      0  \n",
              "284803      0  \n",
              "284804      0  \n",
              "284805      0  \n",
              "284806      0  \n",
              "\n",
              "[5 rows x 31 columns]"
            ],
            "text/html": [
              "\n",
              "  <div id=\"df-c267296c-28ef-4041-be14-3b23a6124b15\" class=\"colab-df-container\">\n",
              "    <div>\n",
              "<style scoped>\n",
              "    .dataframe tbody tr th:only-of-type {\n",
              "        vertical-align: middle;\n",
              "    }\n",
              "\n",
              "    .dataframe tbody tr th {\n",
              "        vertical-align: top;\n",
              "    }\n",
              "\n",
              "    .dataframe thead th {\n",
              "        text-align: right;\n",
              "    }\n",
              "</style>\n",
              "<table border=\"1\" class=\"dataframe\">\n",
              "  <thead>\n",
              "    <tr style=\"text-align: right;\">\n",
              "      <th></th>\n",
              "      <th>Time</th>\n",
              "      <th>V1</th>\n",
              "      <th>V2</th>\n",
              "      <th>V3</th>\n",
              "      <th>V4</th>\n",
              "      <th>V5</th>\n",
              "      <th>V6</th>\n",
              "      <th>V7</th>\n",
              "      <th>V8</th>\n",
              "      <th>V9</th>\n",
              "      <th>...</th>\n",
              "      <th>V21</th>\n",
              "      <th>V22</th>\n",
              "      <th>V23</th>\n",
              "      <th>V24</th>\n",
              "      <th>V25</th>\n",
              "      <th>V26</th>\n",
              "      <th>V27</th>\n",
              "      <th>V28</th>\n",
              "      <th>Amount</th>\n",
              "      <th>Class</th>\n",
              "    </tr>\n",
              "  </thead>\n",
              "  <tbody>\n",
              "    <tr>\n",
              "      <th>284802</th>\n",
              "      <td>172786.0</td>\n",
              "      <td>-11.881118</td>\n",
              "      <td>10.071785</td>\n",
              "      <td>-9.834783</td>\n",
              "      <td>-2.066656</td>\n",
              "      <td>-5.364473</td>\n",
              "      <td>-2.606837</td>\n",
              "      <td>-4.918215</td>\n",
              "      <td>7.305334</td>\n",
              "      <td>1.914428</td>\n",
              "      <td>...</td>\n",
              "      <td>0.213454</td>\n",
              "      <td>0.111864</td>\n",
              "      <td>1.014480</td>\n",
              "      <td>-0.509348</td>\n",
              "      <td>1.436807</td>\n",
              "      <td>0.250034</td>\n",
              "      <td>0.943651</td>\n",
              "      <td>0.823731</td>\n",
              "      <td>0.77</td>\n",
              "      <td>0</td>\n",
              "    </tr>\n",
              "    <tr>\n",
              "      <th>284803</th>\n",
              "      <td>172787.0</td>\n",
              "      <td>-0.732789</td>\n",
              "      <td>-0.055080</td>\n",
              "      <td>2.035030</td>\n",
              "      <td>-0.738589</td>\n",
              "      <td>0.868229</td>\n",
              "      <td>1.058415</td>\n",
              "      <td>0.024330</td>\n",
              "      <td>0.294869</td>\n",
              "      <td>0.584800</td>\n",
              "      <td>...</td>\n",
              "      <td>0.214205</td>\n",
              "      <td>0.924384</td>\n",
              "      <td>0.012463</td>\n",
              "      <td>-1.016226</td>\n",
              "      <td>-0.606624</td>\n",
              "      <td>-0.395255</td>\n",
              "      <td>0.068472</td>\n",
              "      <td>-0.053527</td>\n",
              "      <td>24.79</td>\n",
              "      <td>0</td>\n",
              "    </tr>\n",
              "    <tr>\n",
              "      <th>284804</th>\n",
              "      <td>172788.0</td>\n",
              "      <td>1.919565</td>\n",
              "      <td>-0.301254</td>\n",
              "      <td>-3.249640</td>\n",
              "      <td>-0.557828</td>\n",
              "      <td>2.630515</td>\n",
              "      <td>3.031260</td>\n",
              "      <td>-0.296827</td>\n",
              "      <td>0.708417</td>\n",
              "      <td>0.432454</td>\n",
              "      <td>...</td>\n",
              "      <td>0.232045</td>\n",
              "      <td>0.578229</td>\n",
              "      <td>-0.037501</td>\n",
              "      <td>0.640134</td>\n",
              "      <td>0.265745</td>\n",
              "      <td>-0.087371</td>\n",
              "      <td>0.004455</td>\n",
              "      <td>-0.026561</td>\n",
              "      <td>67.88</td>\n",
              "      <td>0</td>\n",
              "    </tr>\n",
              "    <tr>\n",
              "      <th>284805</th>\n",
              "      <td>172788.0</td>\n",
              "      <td>-0.240440</td>\n",
              "      <td>0.530483</td>\n",
              "      <td>0.702510</td>\n",
              "      <td>0.689799</td>\n",
              "      <td>-0.377961</td>\n",
              "      <td>0.623708</td>\n",
              "      <td>-0.686180</td>\n",
              "      <td>0.679145</td>\n",
              "      <td>0.392087</td>\n",
              "      <td>...</td>\n",
              "      <td>0.265245</td>\n",
              "      <td>0.800049</td>\n",
              "      <td>-0.163298</td>\n",
              "      <td>0.123205</td>\n",
              "      <td>-0.569159</td>\n",
              "      <td>0.546668</td>\n",
              "      <td>0.108821</td>\n",
              "      <td>0.104533</td>\n",
              "      <td>10.00</td>\n",
              "      <td>0</td>\n",
              "    </tr>\n",
              "    <tr>\n",
              "      <th>284806</th>\n",
              "      <td>172792.0</td>\n",
              "      <td>-0.533413</td>\n",
              "      <td>-0.189733</td>\n",
              "      <td>0.703337</td>\n",
              "      <td>-0.506271</td>\n",
              "      <td>-0.012546</td>\n",
              "      <td>-0.649617</td>\n",
              "      <td>1.577006</td>\n",
              "      <td>-0.414650</td>\n",
              "      <td>0.486180</td>\n",
              "      <td>...</td>\n",
              "      <td>0.261057</td>\n",
              "      <td>0.643078</td>\n",
              "      <td>0.376777</td>\n",
              "      <td>0.008797</td>\n",
              "      <td>-0.473649</td>\n",
              "      <td>-0.818267</td>\n",
              "      <td>-0.002415</td>\n",
              "      <td>0.013649</td>\n",
              "      <td>217.00</td>\n",
              "      <td>0</td>\n",
              "    </tr>\n",
              "  </tbody>\n",
              "</table>\n",
              "<p>5 rows × 31 columns</p>\n",
              "</div>\n",
              "    <div class=\"colab-df-buttons\">\n",
              "\n",
              "  <div class=\"colab-df-container\">\n",
              "    <button class=\"colab-df-convert\" onclick=\"convertToInteractive('df-c267296c-28ef-4041-be14-3b23a6124b15')\"\n",
              "            title=\"Convert this dataframe to an interactive table.\"\n",
              "            style=\"display:none;\">\n",
              "\n",
              "  <svg xmlns=\"http://www.w3.org/2000/svg\" height=\"24px\" viewBox=\"0 -960 960 960\">\n",
              "    <path d=\"M120-120v-720h720v720H120Zm60-500h600v-160H180v160Zm220 220h160v-160H400v160Zm0 220h160v-160H400v160ZM180-400h160v-160H180v160Zm440 0h160v-160H620v160ZM180-180h160v-160H180v160Zm440 0h160v-160H620v160Z\"/>\n",
              "  </svg>\n",
              "    </button>\n",
              "\n",
              "  <style>\n",
              "    .colab-df-container {\n",
              "      display:flex;\n",
              "      gap: 12px;\n",
              "    }\n",
              "\n",
              "    .colab-df-convert {\n",
              "      background-color: #E8F0FE;\n",
              "      border: none;\n",
              "      border-radius: 50%;\n",
              "      cursor: pointer;\n",
              "      display: none;\n",
              "      fill: #1967D2;\n",
              "      height: 32px;\n",
              "      padding: 0 0 0 0;\n",
              "      width: 32px;\n",
              "    }\n",
              "\n",
              "    .colab-df-convert:hover {\n",
              "      background-color: #E2EBFA;\n",
              "      box-shadow: 0px 1px 2px rgba(60, 64, 67, 0.3), 0px 1px 3px 1px rgba(60, 64, 67, 0.15);\n",
              "      fill: #174EA6;\n",
              "    }\n",
              "\n",
              "    .colab-df-buttons div {\n",
              "      margin-bottom: 4px;\n",
              "    }\n",
              "\n",
              "    [theme=dark] .colab-df-convert {\n",
              "      background-color: #3B4455;\n",
              "      fill: #D2E3FC;\n",
              "    }\n",
              "\n",
              "    [theme=dark] .colab-df-convert:hover {\n",
              "      background-color: #434B5C;\n",
              "      box-shadow: 0px 1px 3px 1px rgba(0, 0, 0, 0.15);\n",
              "      filter: drop-shadow(0px 1px 2px rgba(0, 0, 0, 0.3));\n",
              "      fill: #FFFFFF;\n",
              "    }\n",
              "  </style>\n",
              "\n",
              "    <script>\n",
              "      const buttonEl =\n",
              "        document.querySelector('#df-c267296c-28ef-4041-be14-3b23a6124b15 button.colab-df-convert');\n",
              "      buttonEl.style.display =\n",
              "        google.colab.kernel.accessAllowed ? 'block' : 'none';\n",
              "\n",
              "      async function convertToInteractive(key) {\n",
              "        const element = document.querySelector('#df-c267296c-28ef-4041-be14-3b23a6124b15');\n",
              "        const dataTable =\n",
              "          await google.colab.kernel.invokeFunction('convertToInteractive',\n",
              "                                                    [key], {});\n",
              "        if (!dataTable) return;\n",
              "\n",
              "        const docLinkHtml = 'Like what you see? Visit the ' +\n",
              "          '<a target=\"_blank\" href=https://colab.research.google.com/notebooks/data_table.ipynb>data table notebook</a>'\n",
              "          + ' to learn more about interactive tables.';\n",
              "        element.innerHTML = '';\n",
              "        dataTable['output_type'] = 'display_data';\n",
              "        await google.colab.output.renderOutput(dataTable, element);\n",
              "        const docLink = document.createElement('div');\n",
              "        docLink.innerHTML = docLinkHtml;\n",
              "        element.appendChild(docLink);\n",
              "      }\n",
              "    </script>\n",
              "  </div>\n",
              "\n",
              "\n",
              "    <div id=\"df-7b65dc54-89dd-4a0d-a1ec-68e05861c9cc\">\n",
              "      <button class=\"colab-df-quickchart\" onclick=\"quickchart('df-7b65dc54-89dd-4a0d-a1ec-68e05861c9cc')\"\n",
              "                title=\"Suggest charts\"\n",
              "                style=\"display:none;\">\n",
              "\n",
              "<svg xmlns=\"http://www.w3.org/2000/svg\" height=\"24px\"viewBox=\"0 0 24 24\"\n",
              "     width=\"24px\">\n",
              "    <g>\n",
              "        <path d=\"M19 3H5c-1.1 0-2 .9-2 2v14c0 1.1.9 2 2 2h14c1.1 0 2-.9 2-2V5c0-1.1-.9-2-2-2zM9 17H7v-7h2v7zm4 0h-2V7h2v10zm4 0h-2v-4h2v4z\"/>\n",
              "    </g>\n",
              "</svg>\n",
              "      </button>\n",
              "\n",
              "<style>\n",
              "  .colab-df-quickchart {\n",
              "      --bg-color: #E8F0FE;\n",
              "      --fill-color: #1967D2;\n",
              "      --hover-bg-color: #E2EBFA;\n",
              "      --hover-fill-color: #174EA6;\n",
              "      --disabled-fill-color: #AAA;\n",
              "      --disabled-bg-color: #DDD;\n",
              "  }\n",
              "\n",
              "  [theme=dark] .colab-df-quickchart {\n",
              "      --bg-color: #3B4455;\n",
              "      --fill-color: #D2E3FC;\n",
              "      --hover-bg-color: #434B5C;\n",
              "      --hover-fill-color: #FFFFFF;\n",
              "      --disabled-bg-color: #3B4455;\n",
              "      --disabled-fill-color: #666;\n",
              "  }\n",
              "\n",
              "  .colab-df-quickchart {\n",
              "    background-color: var(--bg-color);\n",
              "    border: none;\n",
              "    border-radius: 50%;\n",
              "    cursor: pointer;\n",
              "    display: none;\n",
              "    fill: var(--fill-color);\n",
              "    height: 32px;\n",
              "    padding: 0;\n",
              "    width: 32px;\n",
              "  }\n",
              "\n",
              "  .colab-df-quickchart:hover {\n",
              "    background-color: var(--hover-bg-color);\n",
              "    box-shadow: 0 1px 2px rgba(60, 64, 67, 0.3), 0 1px 3px 1px rgba(60, 64, 67, 0.15);\n",
              "    fill: var(--button-hover-fill-color);\n",
              "  }\n",
              "\n",
              "  .colab-df-quickchart-complete:disabled,\n",
              "  .colab-df-quickchart-complete:disabled:hover {\n",
              "    background-color: var(--disabled-bg-color);\n",
              "    fill: var(--disabled-fill-color);\n",
              "    box-shadow: none;\n",
              "  }\n",
              "\n",
              "  .colab-df-spinner {\n",
              "    border: 2px solid var(--fill-color);\n",
              "    border-color: transparent;\n",
              "    border-bottom-color: var(--fill-color);\n",
              "    animation:\n",
              "      spin 1s steps(1) infinite;\n",
              "  }\n",
              "\n",
              "  @keyframes spin {\n",
              "    0% {\n",
              "      border-color: transparent;\n",
              "      border-bottom-color: var(--fill-color);\n",
              "      border-left-color: var(--fill-color);\n",
              "    }\n",
              "    20% {\n",
              "      border-color: transparent;\n",
              "      border-left-color: var(--fill-color);\n",
              "      border-top-color: var(--fill-color);\n",
              "    }\n",
              "    30% {\n",
              "      border-color: transparent;\n",
              "      border-left-color: var(--fill-color);\n",
              "      border-top-color: var(--fill-color);\n",
              "      border-right-color: var(--fill-color);\n",
              "    }\n",
              "    40% {\n",
              "      border-color: transparent;\n",
              "      border-right-color: var(--fill-color);\n",
              "      border-top-color: var(--fill-color);\n",
              "    }\n",
              "    60% {\n",
              "      border-color: transparent;\n",
              "      border-right-color: var(--fill-color);\n",
              "    }\n",
              "    80% {\n",
              "      border-color: transparent;\n",
              "      border-right-color: var(--fill-color);\n",
              "      border-bottom-color: var(--fill-color);\n",
              "    }\n",
              "    90% {\n",
              "      border-color: transparent;\n",
              "      border-bottom-color: var(--fill-color);\n",
              "    }\n",
              "  }\n",
              "</style>\n",
              "\n",
              "      <script>\n",
              "        async function quickchart(key) {\n",
              "          const quickchartButtonEl =\n",
              "            document.querySelector('#' + key + ' button');\n",
              "          quickchartButtonEl.disabled = true;  // To prevent multiple clicks.\n",
              "          quickchartButtonEl.classList.add('colab-df-spinner');\n",
              "          try {\n",
              "            const charts = await google.colab.kernel.invokeFunction(\n",
              "                'suggestCharts', [key], {});\n",
              "          } catch (error) {\n",
              "            console.error('Error during call to suggestCharts:', error);\n",
              "          }\n",
              "          quickchartButtonEl.classList.remove('colab-df-spinner');\n",
              "          quickchartButtonEl.classList.add('colab-df-quickchart-complete');\n",
              "        }\n",
              "        (() => {\n",
              "          let quickchartButtonEl =\n",
              "            document.querySelector('#df-7b65dc54-89dd-4a0d-a1ec-68e05861c9cc button');\n",
              "          quickchartButtonEl.style.display =\n",
              "            google.colab.kernel.accessAllowed ? 'block' : 'none';\n",
              "        })();\n",
              "      </script>\n",
              "    </div>\n",
              "\n",
              "    </div>\n",
              "  </div>\n"
            ],
            "application/vnd.google.colaboratory.intrinsic+json": {
              "type": "dataframe"
            }
          },
          "metadata": {},
          "execution_count": 3
        }
      ],
      "source": [
        "# just to ensure entire dataset was loaded, should show 284k records by the tail\n",
        "df.tail()"
      ]
    },
    {
      "cell_type": "markdown",
      "metadata": {
        "id": "PQSHzgsWNF1s"
      },
      "source": [
        "# **1. Exploratory Data Analysis**\n",
        "\n",
        "In this section, we examined the transaction data to understand feature distributions, detect anomalies, and assess class imbalance. Insights from this analysis directly informed decisions such as transformations, feature selection, sampling strategies and so on in preprocessing.\n"
      ]
    },
    {
      "cell_type": "markdown",
      "metadata": {
        "id": "dwe3MqZIKEDQ"
      },
      "source": [
        "## **1.1. Histogram/KDE Plots**\n",
        "\n"
      ]
    },
    {
      "cell_type": "code",
      "execution_count": null,
      "metadata": {
        "colab": {
          "base_uri": "https://localhost:8080/",
          "height": 371
        },
        "id": "VPfG8xi5K-kh",
        "outputId": "3c292d98-287b-4e38-da80-22e8e26549f9"
      },
      "outputs": [
        {
          "output_type": "error",
          "ename": "KeyboardInterrupt",
          "evalue": "",
          "traceback": [
            "\u001b[0;31m---------------------------------------------------------------------------\u001b[0m",
            "\u001b[0;31mKeyboardInterrupt\u001b[0m                         Traceback (most recent call last)",
            "\u001b[0;32m<ipython-input-4-5859872b8c9d>\u001b[0m in \u001b[0;36m<cell line: 0>\u001b[0;34m()\u001b[0m\n\u001b[1;32m     31\u001b[0m   \u001b[0;31m# add KDE lines to the same plot\u001b[0m\u001b[0;34m\u001b[0m\u001b[0;34m\u001b[0m\u001b[0m\n\u001b[1;32m     32\u001b[0m   \u001b[0msns\u001b[0m\u001b[0;34m.\u001b[0m\u001b[0mkdeplot\u001b[0m\u001b[0;34m(\u001b[0m\u001b[0mdf\u001b[0m\u001b[0;34m[\u001b[0m\u001b[0mdf\u001b[0m\u001b[0;34m[\u001b[0m\u001b[0;34m\"Class\"\u001b[0m\u001b[0;34m]\u001b[0m \u001b[0;34m==\u001b[0m \u001b[0;36m1\u001b[0m\u001b[0;34m]\u001b[0m\u001b[0;34m[\u001b[0m\u001b[0mlabel\u001b[0m\u001b[0;34m]\u001b[0m\u001b[0;34m,\u001b[0m \u001b[0mcolor\u001b[0m\u001b[0;34m=\u001b[0m\u001b[0;34m\"red\"\u001b[0m\u001b[0;34m,\u001b[0m \u001b[0mlabel\u001b[0m\u001b[0;34m=\u001b[0m\u001b[0;34m\"Fraud KDE\"\u001b[0m\u001b[0;34m,\u001b[0m \u001b[0mlinestyle\u001b[0m\u001b[0;34m=\u001b[0m\u001b[0;34m\"dashed\"\u001b[0m\u001b[0;34m)\u001b[0m\u001b[0;34m\u001b[0m\u001b[0;34m\u001b[0m\u001b[0m\n\u001b[0;32m---> 33\u001b[0;31m   \u001b[0msns\u001b[0m\u001b[0;34m.\u001b[0m\u001b[0mkdeplot\u001b[0m\u001b[0;34m(\u001b[0m\u001b[0mdf\u001b[0m\u001b[0;34m[\u001b[0m\u001b[0mdf\u001b[0m\u001b[0;34m[\u001b[0m\u001b[0;34m\"Class\"\u001b[0m\u001b[0;34m]\u001b[0m \u001b[0;34m==\u001b[0m \u001b[0;36m0\u001b[0m\u001b[0;34m]\u001b[0m\u001b[0;34m[\u001b[0m\u001b[0mlabel\u001b[0m\u001b[0;34m]\u001b[0m\u001b[0;34m,\u001b[0m \u001b[0mcolor\u001b[0m\u001b[0;34m=\u001b[0m\u001b[0;34m\"blue\"\u001b[0m\u001b[0;34m,\u001b[0m \u001b[0mlabel\u001b[0m\u001b[0;34m=\u001b[0m\u001b[0;34m\"Non-Fraud KDE\"\u001b[0m\u001b[0;34m,\u001b[0m \u001b[0mlinestyle\u001b[0m\u001b[0;34m=\u001b[0m\u001b[0;34m\"dashed\"\u001b[0m\u001b[0;34m)\u001b[0m\u001b[0;34m\u001b[0m\u001b[0;34m\u001b[0m\u001b[0m\n\u001b[0m\u001b[1;32m     34\u001b[0m \u001b[0;34m\u001b[0m\u001b[0m\n\u001b[1;32m     35\u001b[0m   \u001b[0;31m# add title with overlap percentage\u001b[0m\u001b[0;34m\u001b[0m\u001b[0;34m\u001b[0m\u001b[0m\n",
            "\u001b[0;32m/usr/local/lib/python3.11/dist-packages/seaborn/distributions.py\u001b[0m in \u001b[0;36mkdeplot\u001b[0;34m(data, x, y, hue, weights, palette, hue_order, hue_norm, color, fill, multiple, common_norm, common_grid, cumulative, bw_method, bw_adjust, warn_singular, log_scale, levels, thresh, gridsize, cut, clip, legend, cbar, cbar_ax, cbar_kws, ax, **kwargs)\u001b[0m\n\u001b[1;32m   1699\u001b[0m         \u001b[0mplot_kws\u001b[0m \u001b[0;34m=\u001b[0m \u001b[0mkwargs\u001b[0m\u001b[0;34m.\u001b[0m\u001b[0mcopy\u001b[0m\u001b[0;34m(\u001b[0m\u001b[0;34m)\u001b[0m\u001b[0;34m\u001b[0m\u001b[0;34m\u001b[0m\u001b[0m\n\u001b[1;32m   1700\u001b[0m \u001b[0;34m\u001b[0m\u001b[0m\n\u001b[0;32m-> 1701\u001b[0;31m         p.plot_univariate_density(\n\u001b[0m\u001b[1;32m   1702\u001b[0m             \u001b[0mmultiple\u001b[0m\u001b[0;34m=\u001b[0m\u001b[0mmultiple\u001b[0m\u001b[0;34m,\u001b[0m\u001b[0;34m\u001b[0m\u001b[0;34m\u001b[0m\u001b[0m\n\u001b[1;32m   1703\u001b[0m             \u001b[0mcommon_norm\u001b[0m\u001b[0;34m=\u001b[0m\u001b[0mcommon_norm\u001b[0m\u001b[0;34m,\u001b[0m\u001b[0;34m\u001b[0m\u001b[0;34m\u001b[0m\u001b[0m\n",
            "\u001b[0;32m/usr/local/lib/python3.11/dist-packages/seaborn/distributions.py\u001b[0m in \u001b[0;36mplot_univariate_density\u001b[0;34m(self, multiple, common_norm, common_grid, warn_singular, fill, color, legend, estimate_kws, **plot_kws)\u001b[0m\n\u001b[1;32m    928\u001b[0m \u001b[0;34m\u001b[0m\u001b[0m\n\u001b[1;32m    929\u001b[0m         \u001b[0;31m# Do the computation\u001b[0m\u001b[0;34m\u001b[0m\u001b[0;34m\u001b[0m\u001b[0m\n\u001b[0;32m--> 930\u001b[0;31m         densities = self._compute_univariate_density(\n\u001b[0m\u001b[1;32m    931\u001b[0m             \u001b[0mself\u001b[0m\u001b[0;34m.\u001b[0m\u001b[0mdata_variable\u001b[0m\u001b[0;34m,\u001b[0m\u001b[0;34m\u001b[0m\u001b[0;34m\u001b[0m\u001b[0m\n\u001b[1;32m    932\u001b[0m             \u001b[0mcommon_norm\u001b[0m\u001b[0;34m,\u001b[0m\u001b[0;34m\u001b[0m\u001b[0;34m\u001b[0m\u001b[0m\n",
            "\u001b[0;32m/usr/local/lib/python3.11/dist-packages/seaborn/distributions.py\u001b[0m in \u001b[0;36m_compute_univariate_density\u001b[0;34m(self, data_variable, common_norm, common_grid, estimate_kws, warn_singular)\u001b[0m\n\u001b[1;32m    343\u001b[0m                     \u001b[0;31m# Convoluted approach needed because numerical failures\u001b[0m\u001b[0;34m\u001b[0m\u001b[0;34m\u001b[0m\u001b[0m\n\u001b[1;32m    344\u001b[0m                     \u001b[0;31m# can manifest in a few different ways.\u001b[0m\u001b[0;34m\u001b[0m\u001b[0;34m\u001b[0m\u001b[0m\n\u001b[0;32m--> 345\u001b[0;31m                     \u001b[0mdensity\u001b[0m\u001b[0;34m,\u001b[0m \u001b[0msupport\u001b[0m \u001b[0;34m=\u001b[0m \u001b[0mestimator\u001b[0m\u001b[0;34m(\u001b[0m\u001b[0mobservations\u001b[0m\u001b[0;34m,\u001b[0m \u001b[0mweights\u001b[0m\u001b[0;34m=\u001b[0m\u001b[0mweights\u001b[0m\u001b[0;34m)\u001b[0m\u001b[0;34m\u001b[0m\u001b[0;34m\u001b[0m\u001b[0m\n\u001b[0m\u001b[1;32m    346\u001b[0m             \u001b[0;32mexcept\u001b[0m \u001b[0mnp\u001b[0m\u001b[0;34m.\u001b[0m\u001b[0mlinalg\u001b[0m\u001b[0;34m.\u001b[0m\u001b[0mLinAlgError\u001b[0m\u001b[0;34m:\u001b[0m\u001b[0;34m\u001b[0m\u001b[0;34m\u001b[0m\u001b[0m\n\u001b[1;32m    347\u001b[0m                 \u001b[0msingular\u001b[0m \u001b[0;34m=\u001b[0m \u001b[0;32mTrue\u001b[0m\u001b[0;34m\u001b[0m\u001b[0;34m\u001b[0m\u001b[0m\n",
            "\u001b[0;32m/usr/local/lib/python3.11/dist-packages/seaborn/_statistics.py\u001b[0m in \u001b[0;36m__call__\u001b[0;34m(self, x1, x2, weights)\u001b[0m\n\u001b[1;32m    191\u001b[0m         \u001b[0;34m\"\"\"Fit and evaluate on univariate or bivariate data.\"\"\"\u001b[0m\u001b[0;34m\u001b[0m\u001b[0;34m\u001b[0m\u001b[0m\n\u001b[1;32m    192\u001b[0m         \u001b[0;32mif\u001b[0m \u001b[0mx2\u001b[0m \u001b[0;32mis\u001b[0m \u001b[0;32mNone\u001b[0m\u001b[0;34m:\u001b[0m\u001b[0;34m\u001b[0m\u001b[0;34m\u001b[0m\u001b[0m\n\u001b[0;32m--> 193\u001b[0;31m             \u001b[0;32mreturn\u001b[0m \u001b[0mself\u001b[0m\u001b[0;34m.\u001b[0m\u001b[0m_eval_univariate\u001b[0m\u001b[0;34m(\u001b[0m\u001b[0mx1\u001b[0m\u001b[0;34m,\u001b[0m \u001b[0mweights\u001b[0m\u001b[0;34m)\u001b[0m\u001b[0;34m\u001b[0m\u001b[0;34m\u001b[0m\u001b[0m\n\u001b[0m\u001b[1;32m    194\u001b[0m         \u001b[0;32melse\u001b[0m\u001b[0;34m:\u001b[0m\u001b[0;34m\u001b[0m\u001b[0;34m\u001b[0m\u001b[0m\n\u001b[1;32m    195\u001b[0m             \u001b[0;32mreturn\u001b[0m \u001b[0mself\u001b[0m\u001b[0;34m.\u001b[0m\u001b[0m_eval_bivariate\u001b[0m\u001b[0;34m(\u001b[0m\u001b[0mx1\u001b[0m\u001b[0;34m,\u001b[0m \u001b[0mx2\u001b[0m\u001b[0;34m,\u001b[0m \u001b[0mweights\u001b[0m\u001b[0;34m)\u001b[0m\u001b[0;34m\u001b[0m\u001b[0;34m\u001b[0m\u001b[0m\n",
            "\u001b[0;32m/usr/local/lib/python3.11/dist-packages/seaborn/_statistics.py\u001b[0m in \u001b[0;36m_eval_univariate\u001b[0;34m(self, x, weights)\u001b[0m\n\u001b[1;32m    160\u001b[0m             ])\n\u001b[1;32m    161\u001b[0m         \u001b[0;32melse\u001b[0m\u001b[0;34m:\u001b[0m\u001b[0;34m\u001b[0m\u001b[0;34m\u001b[0m\u001b[0m\n\u001b[0;32m--> 162\u001b[0;31m             \u001b[0mdensity\u001b[0m \u001b[0;34m=\u001b[0m \u001b[0mkde\u001b[0m\u001b[0;34m(\u001b[0m\u001b[0msupport\u001b[0m\u001b[0;34m)\u001b[0m\u001b[0;34m\u001b[0m\u001b[0;34m\u001b[0m\u001b[0m\n\u001b[0m\u001b[1;32m    163\u001b[0m \u001b[0;34m\u001b[0m\u001b[0m\n\u001b[1;32m    164\u001b[0m         \u001b[0;32mreturn\u001b[0m \u001b[0mdensity\u001b[0m\u001b[0;34m,\u001b[0m \u001b[0msupport\u001b[0m\u001b[0;34m\u001b[0m\u001b[0;34m\u001b[0m\u001b[0m\n",
            "\u001b[0;32m/usr/local/lib/python3.11/dist-packages/scipy/stats/_kde.py\u001b[0m in \u001b[0;36mevaluate\u001b[0;34m(self, points)\u001b[0m\n\u001b[1;32m    269\u001b[0m \u001b[0;34m\u001b[0m\u001b[0m\n\u001b[1;32m    270\u001b[0m         \u001b[0moutput_dtype\u001b[0m\u001b[0;34m,\u001b[0m \u001b[0mspec\u001b[0m \u001b[0;34m=\u001b[0m \u001b[0m_get_output_dtype\u001b[0m\u001b[0;34m(\u001b[0m\u001b[0mself\u001b[0m\u001b[0;34m.\u001b[0m\u001b[0mcovariance\u001b[0m\u001b[0;34m,\u001b[0m \u001b[0mpoints\u001b[0m\u001b[0;34m)\u001b[0m\u001b[0;34m\u001b[0m\u001b[0;34m\u001b[0m\u001b[0m\n\u001b[0;32m--> 271\u001b[0;31m         result = gaussian_kernel_estimate[spec](\n\u001b[0m\u001b[1;32m    272\u001b[0m             \u001b[0mself\u001b[0m\u001b[0;34m.\u001b[0m\u001b[0mdataset\u001b[0m\u001b[0;34m.\u001b[0m\u001b[0mT\u001b[0m\u001b[0;34m,\u001b[0m \u001b[0mself\u001b[0m\u001b[0;34m.\u001b[0m\u001b[0mweights\u001b[0m\u001b[0;34m[\u001b[0m\u001b[0;34m:\u001b[0m\u001b[0;34m,\u001b[0m \u001b[0;32mNone\u001b[0m\u001b[0;34m]\u001b[0m\u001b[0;34m,\u001b[0m\u001b[0;34m\u001b[0m\u001b[0;34m\u001b[0m\u001b[0m\n\u001b[1;32m    273\u001b[0m             points.T, self.cho_cov, output_dtype)\n",
            "\u001b[0;31mKeyboardInterrupt\u001b[0m: "
          ]
        }
      ],
      "source": [
        "import seaborn as sns\n",
        "\n",
        "# function to calculate percentage overlap\n",
        "def calculate_overlap(hist1, hist2, bin_widths):\n",
        "  overlap_area = np.sum(np.minimum(hist1, hist2) * bin_widths)\n",
        "  return overlap_area * 100  # Convert to percentage\n",
        "\n",
        "# plotting histograms with KDE overlays\n",
        "num_cols = len(df.columns) - 1\n",
        "num_rows = (num_cols + 3) // 4\n",
        "\n",
        "plt.figure(figsize=(16, 4 * num_rows))\n",
        "\n",
        "for i, label in enumerate(df.columns[:-1], 1):  # exclude the class column\n",
        "  plt.subplot(num_rows, 4, i)\n",
        "\n",
        "  # create histograms\n",
        "  fraud_data, bins = np.histogram(df[df[\"Class\"] == 1][label], bins=30, density=True)\n",
        "  non_fraud_data, _ = np.histogram(df[df[\"Class\"] == 0][label], bins=bins, density=True)\n",
        "\n",
        "  # calculate bin widths\n",
        "  bin_widths = np.diff(bins)\n",
        "\n",
        "  # calculate overlap\n",
        "  overlap_percentage = calculate_overlap(fraud_data, non_fraud_data, bin_widths)\n",
        "\n",
        "  # plot histograms\n",
        "  plt.hist(df[df[\"Class\"] == 1][label], bins=bins, color=\"red\", alpha=0.5, density=True, label=\"Fraud\")\n",
        "  plt.hist(df[df[\"Class\"] == 0][label], bins=bins, color=\"blue\", alpha=0.5, density=True, label=\"Non-Fraud\")\n",
        "\n",
        "  # add KDE lines to the same plot\n",
        "  sns.kdeplot(df[df[\"Class\"] == 1][label], color=\"red\", label=\"Fraud KDE\", linestyle=\"dashed\")\n",
        "  sns.kdeplot(df[df[\"Class\"] == 0][label], color=\"blue\", label=\"Non-Fraud KDE\", linestyle=\"dashed\")\n",
        "\n",
        "  # add title with overlap percentage\n",
        "  plt.title(f\"{label} (Overlap: {overlap_percentage:.2f}%)\")\n",
        "  plt.ylabel(\"Probability\")\n",
        "  plt.xlabel(label)\n",
        "  plt.legend()\n",
        "\n",
        "plt.tight_layout()\n",
        "plt.show()\n"
      ]
    },
    {
      "cell_type": "markdown",
      "metadata": {
        "id": "MZDJP25HWDW5"
      },
      "source": [
        "### Analyzing Overlap for Feature Selection\n",
        "\n",
        "**Note**: The overlap percentage displayed on top of each histogram shows the percentage by which the two classes overlap for that given feature. A lower percentage overlap indicates a greater divide between the two classes given a classification based on that feature.\n",
        "\n",
        "**The aim here is to look for the following categories of features:**\n",
        "- Features with an overlap of over 60% would indicate low discriminative power and would therefore be dopped.\n",
        "- Features with an overlap under 40% would indicate high discriminative power and would therefore be retained.\n",
        "- Features with an overlap in the middle range of 40-60% would require further analysis in order to determine whether they should be dropped or retained.\n",
        "\n",
        "**Observing the results:**\n",
        "\n",
        "Features with an overlap of 40% or below are (To Be Retained):\n",
        "- V2 (39.88%)\n",
        "- V3 (30.74%)\n",
        "- V11 (26.35%)\n",
        "- V12 (22.50%)\n",
        "- V14 (16.20%)\n",
        "- V16 (30.06%)\n",
        "- V17 (21.20%)\n",
        "- V27 (41.66%)\n",
        "\n",
        "\n",
        "Features with an overlap above 60% (To Be Dropped):\n",
        "- V8 (66.75%)\n",
        "- V15 (89.62%)\n",
        "- V21 (90.58%)\n",
        "- V22 (85.60%)\n",
        "- V24 (79.95%)\n",
        "- V25 (85.60%)\n",
        "- V26 (84.30%)\n",
        "\n",
        "Features with an overlap of 40-60%, needing further analysis (Using Random Forest):\n",
        "- V1 (54.20%)\n",
        "- V6 (51.37%)\n",
        "- V9 (42.77%)\n",
        "- V28 (50.24%)\n",
        "\n"
      ]
    },
    {
      "cell_type": "markdown",
      "metadata": {
        "id": "2QYPanryOZbN"
      },
      "source": [
        "## **1.2. Random Forest Feature Importance for All Dataset Features**"
      ]
    },
    {
      "cell_type": "code",
      "execution_count": null,
      "metadata": {
        "id": "VKp4EyTtSyTi"
      },
      "outputs": [],
      "source": [
        "from sklearn.ensemble import RandomForestClassifier\n",
        "from sklearn.model_selection import GridSearchCV, StratifiedKFold\n",
        "from sklearn.metrics import make_scorer, average_precision_score\n",
        "\n",
        "# seprating features (x) and target (y)\n",
        "X = df.drop(columns=['Class'])\n",
        "y = df['Class']\n",
        "\n",
        "# defining parameter grid for random forest\n",
        "param_grid = {\n",
        "    'n_estimators': [100, 200],\n",
        "    'max_depth': [None, 10],\n",
        "    'max_features': ['sqrt', 'log2']\n",
        "}\n",
        "\n",
        "# using average precision as a performance metric for imbalanced data\n",
        "avg_precision_scorer = make_scorer(average_precision_score, needs_proba=True)\n",
        "\n",
        "# creating a random forest model with class weighting for imbalance\n",
        "rf = RandomForestClassifier(class_weight='balanced', random_state=42)\n",
        "\n",
        "# setting up cross-validation and GridSearch\n",
        "cv = StratifiedKFold(n_splits=3, shuffle=True, random_state=42)\n",
        "grid_search = GridSearchCV(\n",
        "    rf,\n",
        "    param_grid=param_grid,\n",
        "    scoring=avg_precision_scorer,\n",
        "    cv=cv,\n",
        "    n_jobs=-1\n",
        ")\n",
        "\n",
        "# running the grid search\n",
        "grid_search.fit(X, y)\n",
        "\n",
        "# retrieve and print best parameterss and best cv score\n",
        "print(\"Best Parameters:\", grid_search.best_params_)\n",
        "print(\"Best CV Score (Average Precision):\", grid_search.best_score_)\n",
        "\n",
        "# getting the best model and extracting feature importances\n",
        "best_rf = grid_search.best_estimator_\n",
        "feature_importances = pd.Series(best_rf.feature_importances_, index=X.columns).sort_values(ascending=False)\n",
        "print(\"\\nFeature Importances from Best RF Model:\\n\", feature_importances)\n",
        "\n",
        "# plotting the feature importnces\n",
        "plt.figure(figsize=(10, 6))\n",
        "feature_importances.plot(kind='bar', title=\"Feature Importance (Tuned Random Forest)\")\n",
        "plt.xlabel(\"Features\")\n",
        "plt.ylabel(\"Importance Score\")\n",
        "plt.xticks(rotation=90)\n",
        "plt.show()\n"
      ]
    },
    {
      "cell_type": "markdown",
      "metadata": {
        "id": "T4KayZZ3P1qF"
      },
      "source": [
        "Based on the feature importance scores shown in the above plot, it can be seen that features such as V14, V10 and V12 possess high importance.\n",
        "\n",
        "This means they hold high predictive power when it comes to model performance. Whereas, features such as V24, V25 and V15, ones with a low feature importnace score, hold low predictive power.\n",
        "\n",
        "Therefore, we are likely to see better performance, if those features are dropped (ones with low predictive score)."
      ]
    },
    {
      "cell_type": "markdown",
      "metadata": {
        "id": "SKinnJ-K7w0j"
      },
      "source": [
        "## **1.3. Feature Importance with SHAP**\n",
        "\n",
        "- To explain how SHAP plots work, the x-axis represents the SHAP value, which indicates how much a feature pushes the model's prediction towards fraud (positive SHAP values) or non-fraud (negative SHAP values)\n",
        "\n",
        "  - Points that are further to the right (positive SHAP values) mean the feature contributes to predicting fraud (Class = 1).\n",
        "\n",
        "  - Points that are further to the left (negative SHAP values) mean the feature contributes to predicting non-fraud (Class = 0).\n",
        "\n",
        "- The color gradient represents the features values where:\n",
        "\n",
        "  - Blue represents low features values.\n",
        "  - Red represents high feature values.\n",
        "\n"
      ]
    },
    {
      "cell_type": "code",
      "execution_count": null,
      "metadata": {
        "id": "s8I348tOT_3A"
      },
      "outputs": [],
      "source": [
        "import shap\n",
        "import xgboost as xgb\n",
        "from sklearn.model_selection import train_test_split, GridSearchCV, StratifiedKFold\n",
        "from sklearn.metrics import make_scorer, average_precision_score\n",
        "\n",
        "# separating features and target\n",
        "X = df.drop(columns=[\"Class\"])\n",
        "y = df[\"Class\"]\n",
        "\n",
        "# splitting the data into training (80%) and test (20%) sets while preserving class distribution\n",
        "X_train, X_test, y_train, y_test = train_test_split(X, y, stratify=y, test_size=0.2, random_state=42)\n",
        "\n",
        "# defining a small parameter grid for tuning XGBoost\n",
        "param_grid = {\n",
        "    \"n_estimators\": [50, 100],\n",
        "    \"max_depth\": [3, 6],\n",
        "    \"learning_rate\": [0.1, 0.01],\n",
        "    \"subsample\": [0.8, 1.0]\n",
        "}\n",
        "\n",
        "# using average precision as the scoring metric, appropriate for imbalanced data\n",
        "avg_prec_scorer = make_scorer(average_precision_score, needs_proba=True)\n",
        "\n",
        "# setting up cross-validation with StratifiedKFold\n",
        "cv = StratifiedKFold(n_splits=3, shuffle=True, random_state=42)\n",
        "\n",
        "# initializing the XGBoost classifier\n",
        "xgb_model = xgb.XGBClassifier(use_label_encoder=False, eval_metric=\"logloss\", random_state=42)\n",
        "\n",
        "# running GridSearchCV to tune hyper-parameters on the training set\n",
        "grid_search = GridSearchCV(estimator=xgb_model, param_grid=param_grid, scoring=avg_prec_scorer,\n",
        "                           cv=cv, n_jobs=-1, verbose=1)\n",
        "grid_search.fit(X_train, y_train)\n",
        "\n",
        "print(\"Best Parameters:\", grid_search.best_params_)\n",
        "print(\"Best CV Score (Average Precision):\", grid_search.best_score_)\n",
        "\n",
        "# using the best model obtained from tuning for SHAP analysis on the test set\n",
        "best_model = grid_search.best_estimator_\n",
        "\n",
        "# creating a SHAP Explainer and compute SHAP values on the test set\n",
        "explainer = shap.Explainer(best_model)\n",
        "shap_values = explainer(X_test)\n",
        "\n",
        "# plotting a SHAP summary of the feature importances\n",
        "shap.summary_plot(shap_values, X_test, max_display=len(X_test.columns)-1)\n"
      ]
    },
    {
      "cell_type": "markdown",
      "metadata": {
        "id": "Z9JnliyJ_Kvo"
      },
      "source": [
        "**V14 is the Most Important Feature**\n",
        "- V14 has the highest impact on model output, meaning it plays the most significant role in predicting fraud.\n",
        "\n",
        "- Higher absolute SHAP values indicate stronger influence on the model's decision.\n",
        "\n",
        "- The color gradiant shows that low values of V14 (blue) push predictions towards fraud (right), while high values (red) increase non-fraud probability (left).\n",
        "\n",
        "**Other Key Features (V4, V12, V10) Also Have High Importance**\n",
        "\n",
        "- V4, V12, and V10 follow V14 in importance, meaning they contribute strongly to separating between fraud and non-fraud.\n",
        "\n",
        "- Features like Amount and Time appear mid-range, suggesting they play a moderate role but are not as dominant as PCA-transformed variables.\n",
        "\n",
        "- Amount has a balanced spread of SHAP values, meaning its contribution varies between fraud and non-fraud cases.\n",
        "\n",
        "**Features Lower in the List Have Little to No Impact**\n",
        "\n",
        "- Features like V28, V18, and V6 HAVE much smaller SHAP values, meaning they contribute less to fraud classification.\n",
        "\n",
        "- This suggests these features could be considered for removal.\n",
        "\n",
        "**One thing worth considering is the following**\n",
        "\n",
        "- The models struggle at predicting the fraud class more than anything.\n",
        "\n",
        "- From the plot it can be notices that there are some features that possess low importance yet deviate more towards the fraud class.\n",
        "\n",
        "- Features V17, V20, V22 and V13 in particular exhibit this (in that order of deviation).\n",
        "\n",
        "- Therefore, it is concluded that these features should be retained.\n",
        "\n",
        "**Describing Each Feature**\n",
        "\n",
        "- V14\n",
        "  - Blue (low) → Right (fraud), Red (high) → Left (non-fraud).\n",
        " - Low V14 increases fraud probability, high V14 predicts non-fraud.\n",
        "- V4\n",
        "  - Blue (low) → Left (Non-fraud), Red (high) → Right (fraud).\n",
        "  - High V4 increases likelihood of fraud.\n",
        "- V17\n",
        "  - Blue (low) → Right (fraud), with some Red (high) on right side.\n",
        "  - Low V17 values associated with fraud.\n",
        "- V10\n",
        "  - Red (high) → Left (non-fraud), Blue (low) → Right (fraud).\n",
        "  - Low V10 increases fraud likelihood.\n",
        "- V7\n",
        "  - Red (high values) on both sides.\n",
        "  - Weak decider between fraud and non-fraud class.\n",
        "- V11\n",
        "  - Red (high) → Right (fraud), Blue (low) → Left (non-fraud).\n",
        "  - Higher V11 values tied to fraud.\n",
        "- V20\n",
        "  - Mostly Blue (low) on the right side (fraud).\n",
        "  - Low V20 values lean more towards fraud.\n",
        "- V12\n",
        "  - Red (high) → Left (non-fraud), Blue (low) → Right (fraud).\n",
        "  - Low V12 pushes towards fraud prediction.\n",
        "- V19\n",
        "  - Blue (low) → Right (fraud).\n",
        "  - Low V19 linked to fraud.\n",
        "- V21\n",
        "  - Red (high) → Right (fraud), Blue (low) → Left (non-fraud).\n",
        "  - Though somewhat jumbled, somewhat weak decider.\n",
        "- V13\n",
        "  - Mixed distribution, no clear pattern\n",
        "- Amount\n",
        "  - Mixed distribution, no clear pattern\n",
        "- V27\n",
        "  - Red (high) → Left (non-fraud)\n",
        "  - High V27 leans towards non-fraud\n",
        "- V22\n",
        "  - Red (high) → Right (fraud)\n",
        "  - High V22 leans towards fraud\n",
        "-  V16\n",
        "  - Somewhat mixed up, but mostly Blue (low) → Right (fraud), Red (high) → Left (non-fraud)\n",
        "  - Mediocre decider between fraud and non-fraud.\n",
        "- V26\n",
        "  - Blue (low) on both sides with a mix of red and blue on the left side (non-fraud).\n",
        "  - Weak decider between fraud and non-fraud.\n",
        "- V24\n",
        "  - Mixed distribution.\n",
        "  - Low effect, unclear pattern, weak decider.\n",
        "\n",
        "- Features V2, V9, V6, V8, V15, V28, V3, V18, Time, V5, V23, V1, V25. All these features have no-clear distribution on the SHAP plot, however based on this as well as the results from the Feature Importance Scores using RandomForestClassifier, the following actionable is derived:\n",
        "\n",
        "-> Derived Actionable: Drop Features V1, V5, V6, V8, V13, V15, V23, V24, V25, V26, and V28."
      ]
    },
    {
      "cell_type": "markdown",
      "metadata": {
        "id": "fgDpOfmC2vJb"
      },
      "source": [
        "## **1.4. Correlation Heatmap to Identify Redundant Features**\n"
      ]
    },
    {
      "cell_type": "code",
      "execution_count": 3,
      "metadata": {
        "colab": {
          "base_uri": "https://localhost:8080/",
          "height": 219
        },
        "id": "hN4OaAdU2zK5",
        "outputId": "344fb688-aa79-474e-cb61-8c0d54a69900"
      },
      "outputs": [
        {
          "output_type": "error",
          "ename": "NameError",
          "evalue": "name 'sns' is not defined",
          "traceback": [
            "\u001b[0;31m---------------------------------------------------------------------------\u001b[0m",
            "\u001b[0;31mNameError\u001b[0m                                 Traceback (most recent call last)",
            "\u001b[0;32m<ipython-input-3-a08c1e97fb7f>\u001b[0m in \u001b[0;36m<cell line: 0>\u001b[0;34m()\u001b[0m\n\u001b[1;32m      1\u001b[0m \u001b[0mplt\u001b[0m\u001b[0;34m.\u001b[0m\u001b[0mfigure\u001b[0m\u001b[0;34m(\u001b[0m\u001b[0mfigsize\u001b[0m\u001b[0;34m=\u001b[0m\u001b[0;34m(\u001b[0m\u001b[0;36m12\u001b[0m\u001b[0;34m,\u001b[0m \u001b[0;36m8\u001b[0m\u001b[0;34m)\u001b[0m\u001b[0;34m)\u001b[0m\u001b[0;34m\u001b[0m\u001b[0;34m\u001b[0m\u001b[0m\n\u001b[0;32m----> 2\u001b[0;31m \u001b[0msns\u001b[0m\u001b[0;34m.\u001b[0m\u001b[0mheatmap\u001b[0m\u001b[0;34m(\u001b[0m\u001b[0mdf\u001b[0m\u001b[0;34m.\u001b[0m\u001b[0mcorr\u001b[0m\u001b[0;34m(\u001b[0m\u001b[0;34m)\u001b[0m\u001b[0;34m,\u001b[0m \u001b[0mcmap\u001b[0m\u001b[0;34m=\u001b[0m\u001b[0;34m\"coolwarm\"\u001b[0m\u001b[0;34m,\u001b[0m \u001b[0mannot\u001b[0m\u001b[0;34m=\u001b[0m\u001b[0;32mFalse\u001b[0m\u001b[0;34m,\u001b[0m \u001b[0mvmin\u001b[0m\u001b[0;34m=\u001b[0m\u001b[0;34m-\u001b[0m\u001b[0;36m1\u001b[0m\u001b[0;34m,\u001b[0m \u001b[0mvmax\u001b[0m\u001b[0;34m=\u001b[0m\u001b[0;36m1\u001b[0m\u001b[0;34m)\u001b[0m\u001b[0;34m\u001b[0m\u001b[0;34m\u001b[0m\u001b[0m\n\u001b[0m\u001b[1;32m      3\u001b[0m \u001b[0mplt\u001b[0m\u001b[0;34m.\u001b[0m\u001b[0mtitle\u001b[0m\u001b[0;34m(\u001b[0m\u001b[0;34m\"Correlation Heatmap of Features\"\u001b[0m\u001b[0;34m)\u001b[0m\u001b[0;34m\u001b[0m\u001b[0;34m\u001b[0m\u001b[0m\n\u001b[1;32m      4\u001b[0m \u001b[0mplt\u001b[0m\u001b[0;34m.\u001b[0m\u001b[0mshow\u001b[0m\u001b[0;34m(\u001b[0m\u001b[0;34m)\u001b[0m\u001b[0;34m\u001b[0m\u001b[0;34m\u001b[0m\u001b[0m\n",
            "\u001b[0;31mNameError\u001b[0m: name 'sns' is not defined"
          ]
        },
        {
          "output_type": "display_data",
          "data": {
            "text/plain": [
              "<Figure size 1200x800 with 0 Axes>"
            ]
          },
          "metadata": {}
        }
      ],
      "source": [
        "plt.figure(figsize=(12, 8))\n",
        "sns.heatmap(df.corr(), cmap=\"coolwarm\", annot=False, vmin=-1, vmax=1)\n",
        "plt.title(\"Correlation Heatmap of Features\")\n",
        "plt.show()\n"
      ]
    },
    {
      "cell_type": "markdown",
      "metadata": {
        "id": "Wdku8yCs4_-h"
      },
      "source": [
        "- Since the dataset is PCA-transformed we see a light gray background which suggests that most features do not exhibit strong correlation with each other (No Correlation).\n",
        "\n",
        "- Some PCA features show weak correlations (shown by faint blue and orange spots)\n",
        "\n",
        "- The Time and Amount columns seem to show minor correlations with a few PCA features but nothing extreme.\n"
      ]
    },
    {
      "cell_type": "markdown",
      "metadata": {
        "id": "ucPmO6IAmFmo"
      },
      "source": [
        "## **1.5. Outlier Detection and Handling (For Time and Amount Column)**\n"
      ]
    },
    {
      "cell_type": "markdown",
      "metadata": {
        "id": "hOQQs1T645sc"
      },
      "source": [
        "### Box Plots & Interquartile Method for Outlier Detection"
      ]
    },
    {
      "cell_type": "code",
      "execution_count": 4,
      "metadata": {
        "colab": {
          "base_uri": "https://localhost:8080/",
          "height": 730
        },
        "id": "di_tQ15aOty6",
        "outputId": "f63894f4-4bf6-4dc9-df8c-484f06144bec"
      },
      "outputs": [
        {
          "output_type": "error",
          "ename": "NameError",
          "evalue": "name 'sns' is not defined",
          "traceback": [
            "\u001b[0;31m---------------------------------------------------------------------------\u001b[0m",
            "\u001b[0;31mNameError\u001b[0m                                 Traceback (most recent call last)",
            "\u001b[0;32m<ipython-input-4-4383f162b81f>\u001b[0m in \u001b[0;36m<cell line: 0>\u001b[0;34m()\u001b[0m\n\u001b[1;32m      2\u001b[0m \u001b[0mplt\u001b[0m\u001b[0;34m.\u001b[0m\u001b[0mfigure\u001b[0m\u001b[0;34m(\u001b[0m\u001b[0mfigsize\u001b[0m\u001b[0;34m=\u001b[0m\u001b[0;34m(\u001b[0m\u001b[0;36m14\u001b[0m\u001b[0;34m,\u001b[0m \u001b[0;36m6\u001b[0m\u001b[0;34m)\u001b[0m\u001b[0;34m)\u001b[0m\u001b[0;34m\u001b[0m\u001b[0;34m\u001b[0m\u001b[0m\n\u001b[1;32m      3\u001b[0m \u001b[0mplt\u001b[0m\u001b[0;34m.\u001b[0m\u001b[0msubplot\u001b[0m\u001b[0;34m(\u001b[0m\u001b[0;36m1\u001b[0m\u001b[0;34m,\u001b[0m \u001b[0;36m2\u001b[0m\u001b[0;34m,\u001b[0m \u001b[0;36m1\u001b[0m\u001b[0;34m)\u001b[0m\u001b[0;34m\u001b[0m\u001b[0;34m\u001b[0m\u001b[0m\n\u001b[0;32m----> 4\u001b[0;31m \u001b[0msns\u001b[0m\u001b[0;34m.\u001b[0m\u001b[0mboxplot\u001b[0m\u001b[0;34m(\u001b[0m\u001b[0mx\u001b[0m\u001b[0;34m=\u001b[0m\u001b[0;34m'Class'\u001b[0m\u001b[0;34m,\u001b[0m \u001b[0my\u001b[0m\u001b[0;34m=\u001b[0m\u001b[0;34m'Amount'\u001b[0m\u001b[0;34m,\u001b[0m \u001b[0mdata\u001b[0m\u001b[0;34m=\u001b[0m\u001b[0mdf\u001b[0m\u001b[0;34m)\u001b[0m\u001b[0;34m\u001b[0m\u001b[0;34m\u001b[0m\u001b[0m\n\u001b[0m\u001b[1;32m      5\u001b[0m \u001b[0mplt\u001b[0m\u001b[0;34m.\u001b[0m\u001b[0mtitle\u001b[0m\u001b[0;34m(\u001b[0m\u001b[0;34m\"Boxplot of Amount by Class\"\u001b[0m\u001b[0;34m)\u001b[0m\u001b[0;34m\u001b[0m\u001b[0;34m\u001b[0m\u001b[0m\n\u001b[1;32m      6\u001b[0m \u001b[0;34m\u001b[0m\u001b[0m\n",
            "\u001b[0;31mNameError\u001b[0m: name 'sns' is not defined"
          ]
        },
        {
          "output_type": "display_data",
          "data": {
            "text/plain": [
              "<Figure size 1400x600 with 1 Axes>"
            ],
            "image/png": "[encoded data removed]"
          },
          "metadata": {}
        }
      ],
      "source": [
        "# outlier detection by plotting box plotss\n",
        "plt.figure(figsize=(14, 6))\n",
        "plt.subplot(1, 2, 1)\n",
        "sns.boxplot(x='Class', y='Amount', data=df)\n",
        "plt.title(\"Boxplot of Amount by Class\")\n",
        "\n",
        "plt.subplot(1, 2, 2)\n",
        "sns.boxplot(x='Class', y='Time', data=df)\n",
        "plt.title(\"Boxplot of Time by Class\")\n",
        "plt.show()"
      ]
    },
    {
      "cell_type": "markdown",
      "metadata": {
        "id": "dlVm0clOvo7M"
      },
      "source": [
        "**The Amount Column:**\n",
        "\n",
        "The boxplot shows a large number of outliers in the Amount Column for both classes, particularly for the non-fraud class. This could also be discerned from observing the Amount column's histogram which was highly skewed.\n",
        "\n",
        "Since the Amount column is highly skewed with extreme values, a log transformation should be applied.\n",
        "\n",
        "**The Time Column:**\n",
        "\n",
        "The Time Column does not show any significant difference between fraud and non-fraud transactions, it might not contribute much to classification, therefore it should likely be dropped.\n",
        "\n",
        "If not, it can be normalized to ensure consistent scaling.\n",
        "\n",
        "**-> Derived Actionable: Apply log transformation to Amount Column (After that the Amount column is Normalized).**\n"
      ]
    },
    {
      "cell_type": "markdown",
      "metadata": {
        "id": "y8x_Ir6F47RI"
      },
      "source": [
        "### Interquartile Method (IQR) For Outlier Detection"
      ]
    },
    {
      "cell_type": "code",
      "execution_count": 5,
      "metadata": {
        "colab": {
          "base_uri": "https://localhost:8080/"
        },
        "id": "uxD3FW5A4_uP",
        "outputId": "ed336919-24c2-4c40-bca5-010ef294b38f"
      },
      "outputs": [
        {
          "output_type": "stream",
          "name": "stdout",
          "text": [
            "Outliers in Amount: 31904\n",
            "Fraud cases among outliers in Amount: 91\n",
            "Outliers in Time: 0\n",
            "Fraud cases among outliers in Time: 0\n"
          ]
        }
      ],
      "source": [
        "# detecting outliers using IQR\n",
        "for column in ['Amount', 'Time']:  # Analyze 'Amount' and 'Time'\n",
        "  Q1 = df[column].quantile(0.25)\n",
        "  Q3 = df[column].quantile(0.75)\n",
        "  IQR = Q3 - Q1\n",
        "  lower_bound = Q1 - 1.5 * IQR\n",
        "  upper_bound = Q3 + 1.5 * IQR\n",
        "\n",
        "  # Define the 'outliers' variable for the current column\n",
        "  outliers = df[(df[column] < lower_bound) | (df[column] > upper_bound)]\n",
        "\n",
        "  # Check fraud cases among outliers\n",
        "  fraud_outliers = outliers[outliers['Class'] == 1]\n",
        "  print(f\"Outliers in {column}: {len(outliers)}\")\n",
        "  print(f\"Fraud cases among outliers in {column}: {len(fraud_outliers)}\")"
      ]
    },
    {
      "cell_type": "markdown",
      "metadata": {
        "id": "IO5P9QHC1d7J"
      },
      "source": [
        "This output shows 31904 rows flagged as outliers in the Amount column based on the IQR method.\n",
        "\n",
        "These outliers are transactions with amounts significantly higher than most other transactions (e.g. exceeding the upper whisker in the boxplot above)\n",
        "\n",
        "\n",
        "For the time column, there is not outlier-specific action needed."
      ]
    },
    {
      "cell_type": "markdown",
      "metadata": {
        "id": "LqAlLgCEK_vO"
      },
      "source": [
        "## **1.6. Visualizing the Class Imbalance**"
      ]
    },
    {
      "cell_type": "code",
      "execution_count": 6,
      "metadata": {
        "colab": {
          "base_uri": "https://localhost:8080/",
          "height": 545
        },
        "id": "DMX0gByX-5R_",
        "outputId": "b096732d-686b-4329-8edd-a47ec6e69e5a"
      },
      "outputs": [
        {
          "output_type": "stream",
          "name": "stdout",
          "text": [
            "Percentage of Fraud (Class==1): 99.82725143693798%\n",
            "Percentage of Non-Fraud (Class==0): 0.1727485630620034%\n"
          ]
        },
        {
          "output_type": "stream",
          "name": "stderr",
          "text": [
            "<ipython-input-6-6d047aac2311>:2: FutureWarning: pandas.value_counts is deprecated and will be removed in a future version. Use pd.Series(obj).value_counts() instead.\n",
            "  class_num = pd.value_counts(df[\"Class\"], sort=True)\n"
          ]
        },
        {
          "output_type": "display_data",
          "data": {
            "text/plain": [
              "<Figure size 640x480 with 1 Axes>"
            ],
            "image/png": "[encoded data removed]"
          },
          "metadata": {}
        }
      ],
      "source": [
        "# visualizing the split between fraud and non-fraud class\n",
        "class_num = pd.value_counts(df[\"Class\"], sort=True)\n",
        "class_num.plot(kind=\"bar\", rot=0)\n",
        "plt.title(\"Class Distribution\")\n",
        "plt.xlabel(\"Class\")\n",
        "plt.ylabel(\"Frequency\")\n",
        "\n",
        "# checking the percentage of fraud and non-fraud instances\n",
        "print(f\"Percentage of Fraud (Class==1): {df['Class'].value_counts()[0]/len(df) * 100}%\")\n",
        "print(f\"Percentage of Non-Fraud (Class==0): {df['Class'].value_counts()[1]/len(df) * 100}%\")"
      ]
    },
    {
      "cell_type": "markdown",
      "metadata": {
        "id": "HwgLH6Q6CTHZ"
      },
      "source": [
        "The bar chart above shows that fraud class accounts for 492 cases out of the total 284,807 transactions (Indicating a major class imbalance)\n",
        "\n",
        "Only 0.173% of the dataset contains cases of fraud, while 99.827% is not fraud (values may vary to a few d.p). This means the dataset is heavily skewed/imbalanced and that will need to be dealt with.\n",
        "\n",
        "**-> Derived Actionable: Oversample the Fraud class and/or undersample the Non-fraud class. Possibly use SMOTE or ADASYN.**"
      ]
    },
    {
      "cell_type": "code",
      "execution_count": 7,
      "metadata": {
        "colab": {
          "base_uri": "https://localhost:8080/"
        },
        "id": "Da03OiEACQJx",
        "outputId": "bd6bf895-fa08-4b56-d451-1b7a1b1243f6"
      },
      "outputs": [
        {
          "output_type": "stream",
          "name": "stdout",
          "text": [
            "           Time        V1        V2        V3        V4        V5        V6  \\\n",
            "count 284807.00 284807.00 284807.00 284807.00 284807.00 284807.00 284807.00   \n",
            "mean   94813.86      0.00      0.00     -0.00      0.00      0.00      0.00   \n",
            "std    47488.15      1.96      1.65      1.52      1.42      1.38      1.33   \n",
            "min        0.00    -56.41    -72.72    -48.33     -5.68   -113.74    -26.16   \n",
            "25%    54201.50     -0.92     -0.60     -0.89     -0.85     -0.69     -0.77   \n",
            "50%    84692.00      0.02      0.07      0.18     -0.02     -0.05     -0.27   \n",
            "75%   139320.50      1.32      0.80      1.03      0.74      0.61      0.40   \n",
            "max   172792.00      2.45     22.06      9.38     16.88     34.80     73.30   \n",
            "\n",
            "             V7        V8        V9  ...       V21       V22       V23  \\\n",
            "count 284807.00 284807.00 284807.00  ... 284807.00 284807.00 284807.00   \n",
            "mean      -0.00      0.00     -0.00  ...      0.00     -0.00      0.00   \n",
            "std        1.24      1.19      1.10  ...      0.73      0.73      0.62   \n",
            "min      -43.56    -73.22    -13.43  ...    -34.83    -10.93    -44.81   \n",
            "25%       -0.55     -0.21     -0.64  ...     -0.23     -0.54     -0.16   \n",
            "50%        0.04      0.02     -0.05  ...     -0.03      0.01     -0.01   \n",
            "75%        0.57      0.33      0.60  ...      0.19      0.53      0.15   \n",
            "max      120.59     20.01     15.59  ...     27.20     10.50     22.53   \n",
            "\n",
            "            V24       V25       V26       V27       V28    Amount     Class  \n",
            "count 284807.00 284807.00 284807.00 284807.00 284807.00 284807.00 284807.00  \n",
            "mean       0.00      0.00      0.00     -0.00     -0.00     88.35      0.00  \n",
            "std        0.61      0.52      0.48      0.40      0.33    250.12      0.04  \n",
            "min       -2.84    -10.30     -2.60    -22.57    -15.43      0.00      0.00  \n",
            "25%       -0.35     -0.32     -0.33     -0.07     -0.05      5.60      0.00  \n",
            "50%        0.04      0.02     -0.05      0.00      0.01     22.00      0.00  \n",
            "75%        0.44      0.35      0.24      0.09      0.08     77.16      0.00  \n",
            "max        4.58      7.52      3.52     31.61     33.85  25691.16      1.00  \n",
            "\n",
            "[8 rows x 31 columns]\n"
          ]
        }
      ],
      "source": [
        "# compute statistical summary\n",
        "statistical_summary = df.describe()\n",
        "\n",
        "# display the summary\n",
        "pd.set_option(\"display.float_format\", \"{:.2f}\".format)  # Optional: Format decimal places\n",
        "print(statistical_summary)"
      ]
    },
    {
      "cell_type": "code",
      "execution_count": 8,
      "metadata": {
        "colab": {
          "base_uri": "https://localhost:8080/"
        },
        "id": "EAA88756VNJ_",
        "outputId": "c8fa5700-5d58-4090-ae00-375aa7090bef"
      },
      "outputs": [
        {
          "output_type": "stream",
          "name": "stdout",
          "text": [
            "\n",
            "===== Overall Summary (all rows) =====\n",
            "           Time        V1        V2        V3        V4        V5        V6  \\\n",
            "count 284807.00 284807.00 284807.00 284807.00 284807.00 284807.00 284807.00   \n",
            "mean   94813.86      0.00      0.00     -0.00      0.00      0.00      0.00   \n",
            "std    47488.15      1.96      1.65      1.52      1.42      1.38      1.33   \n",
            "min        0.00    -56.41    -72.72    -48.33     -5.68   -113.74    -26.16   \n",
            "25%    54201.50     -0.92     -0.60     -0.89     -0.85     -0.69     -0.77   \n",
            "50%    84692.00      0.02      0.07      0.18     -0.02     -0.05     -0.27   \n",
            "75%   139320.50      1.32      0.80      1.03      0.74      0.61      0.40   \n",
            "max   172792.00      2.45     22.06      9.38     16.88     34.80     73.30   \n",
            "\n",
            "             V7        V8        V9  ...       V21       V22       V23  \\\n",
            "count 284807.00 284807.00 284807.00  ... 284807.00 284807.00 284807.00   \n",
            "mean      -0.00      0.00     -0.00  ...      0.00     -0.00      0.00   \n",
            "std        1.24      1.19      1.10  ...      0.73      0.73      0.62   \n",
            "min      -43.56    -73.22    -13.43  ...    -34.83    -10.93    -44.81   \n",
            "25%       -0.55     -0.21     -0.64  ...     -0.23     -0.54     -0.16   \n",
            "50%        0.04      0.02     -0.05  ...     -0.03      0.01     -0.01   \n",
            "75%        0.57      0.33      0.60  ...      0.19      0.53      0.15   \n",
            "max      120.59     20.01     15.59  ...     27.20     10.50     22.53   \n",
            "\n",
            "            V24       V25       V26       V27       V28    Amount     Class  \n",
            "count 284807.00 284807.00 284807.00 284807.00 284807.00 284807.00 284807.00  \n",
            "mean       0.00      0.00      0.00     -0.00     -0.00     88.35      0.00  \n",
            "std        0.61      0.52      0.48      0.40      0.33    250.12      0.04  \n",
            "min       -2.84    -10.30     -2.60    -22.57    -15.43      0.00      0.00  \n",
            "25%       -0.35     -0.32     -0.33     -0.07     -0.05      5.60      0.00  \n",
            "50%        0.04      0.02     -0.05      0.00      0.01     22.00      0.00  \n",
            "75%        0.44      0.35      0.24      0.09      0.08     77.16      0.00  \n",
            "max        4.58      7.52      3.52     31.61     33.85  25691.16      1.00  \n",
            "\n",
            "[8 rows x 31 columns]\n",
            "\n",
            "===== Summary by Class (0 = non‑fraud, 1 = fraud) =====\n",
            "         Time                                                  V1             \\\n",
            "        count     mean      std    min   median       max   count  mean  std   \n",
            "Class                                                                          \n",
            "0      284315 94838.20 47484.02   0.00 84711.00 172792.00  284315  0.01 1.93   \n",
            "1         492 80746.81 47835.37 406.00 75568.50 170348.00     492 -4.77 6.78   \n",
            "\n",
            "              ...  V28                      Amount                            \\\n",
            "         min  ...  std    min median   max   count   mean    std  min median   \n",
            "Class         ...                                                              \n",
            "0     -56.41  ... 0.33 -15.43   0.01 33.85  284315  88.29 250.11 0.00  22.00   \n",
            "1     -30.55  ... 0.55  -1.87   0.15  1.78     492 122.21 256.68 0.00   9.25   \n",
            "\n",
            "                \n",
            "           max  \n",
            "Class           \n",
            "0     25691.16  \n",
            "1      2125.87  \n",
            "\n",
            "[2 rows x 180 columns]\n",
            "\n",
            "===== Skewness and Kurtosis =====\n",
            "        skew  kurtosis\n",
            "Time   -0.04     -1.29\n",
            "V1     -3.28     32.49\n",
            "V2     -4.62     95.77\n",
            "V3     -2.24     26.62\n",
            "V4      0.68      2.64\n",
            "V5     -2.43    206.90\n",
            "V6      1.83     42.64\n",
            "V7      2.55    405.61\n",
            "V8     -8.52    220.59\n",
            "V9      0.55      3.73\n",
            "V10     1.19     31.99\n",
            "V11     0.36      1.63\n",
            "V12    -2.28     20.24\n",
            "V13     0.07      0.20\n",
            "V14    -2.00     23.88\n",
            "V15    -0.31      0.28\n",
            "V16    -1.10     10.42\n",
            "V17    -3.84     94.80\n",
            "V18    -0.26      2.58\n",
            "V19     0.11      1.72\n",
            "V20    -2.04    271.02\n",
            "V21     3.59    207.29\n",
            "V22    -0.21      2.83\n",
            "V23    -5.88    440.09\n",
            "V24    -0.55      0.62\n",
            "V25    -0.42      4.29\n",
            "V26     0.58      0.92\n",
            "V27    -1.17    244.99\n",
            "V28    11.19    933.40\n",
            "Amount 16.98    845.09\n",
            "Class  24.00    573.89\n",
            "\n",
            "===== Missing‑Value Count per Column =====\n",
            "No missing values found.\n"
          ]
        }
      ],
      "source": [
        "# overall descriptive statistics same as df.describe()\n",
        "overall_summary = df.describe()\n",
        "print(\"\\n===== Overall Summary (all rows) =====\")\n",
        "print(overall_summary)\n",
        "\n",
        "\n",
        "# descriptive statistics separately for each class (count, mean, std, min, median, max)\n",
        "summary_by_class = (\n",
        "    df.groupby(\"Class\")\n",
        "      .agg([\"count\", \"mean\", \"std\", \"min\", \"median\", \"max\"])\n",
        ")\n",
        "print(\"\\n===== Summary by Class (0 = non‑fraud, 1 = fraud) =====\")\n",
        "print(summary_by_class)\n",
        "\n",
        "# skewness and kurtosis for every feature\n",
        "skew_kurt = pd.DataFrame({\n",
        "    \"skew\": df.skew(),\n",
        "    \"kurtosis\": df.kurt()\n",
        "})\n",
        "print(\"\\n===== Skewness and Kurtosis =====\")\n",
        "print(skew_kurt)\n",
        "\n",
        "# checking missing values\n",
        "missing = df.isnull().sum()\n",
        "print(\"\\n===== Missing‑Value Count per Column =====\")\n",
        "print(missing[missing > 0] if missing.sum() else \"No missing values found.\")\n"
      ]
    },
    {
      "cell_type": "markdown",
      "metadata": {
        "id": "sPZeh8jxC-Mi"
      },
      "source": [
        "PCA components (V1 - V28)\n",
        "- Already centred and scaled by the transformation, so no extra standardisation is needed.\n",
        "- A few components show heavy tails, so robust models remain a sensible choice.\n",
        "\n",
        "Amount\n",
        "- Strongly right-skewed: most transactions are small, but a handful are very large.\n",
        "- High spread confirms why a log transformation will be applied.\n",
        "\n",
        "Time\n",
        "- Spans the full two-day window of the dataset and sits on a much larger scale than the PCA features.\n",
        "- Should be z-standardised (or possibly dropped) to keep the feature set on a comparable scale.\n",
        "\n",
        "Class imbalance\n",
        "- Fraud cases make up a tiny fraction of the data, reinforcing the need for resampling or class-weighted learning and for metrics such as precision-recall AUC.\n",
        "\n",
        "Data completeness\n",
        "- No missing values were detected, so no imputation step is required.\n",
        "\n",
        "Fraud vs non-fraud contrasts\n",
        "- Fraud transactions tend to occur slightly earlier in the time window and involve somewhat higher amounts.\n",
        "- Several PCA features show different averages between the two classes, indicating useful separation.\n",
        "\n",
        "**-> Derived Actionable: Log transform Amount Column and Standardize Time Column**"
      ]
    },
    {
      "cell_type": "markdown",
      "metadata": {
        "id": "ZrRPu5nmOb6-"
      },
      "source": [
        "## **1.7. Transaction Amount Analysis**\n",
        "\n",
        "Exploring if there are distinct patterns in Amount for fraud and non-fraud transactions by visualizing and calculating summary statistics.\n",
        "\n",
        "For example, fraud might occur more often with lower or higher amounts.\n",
        "\n",
        "\n"
      ]
    },
    {
      "cell_type": "code",
      "execution_count": 9,
      "metadata": {
        "colab": {
          "base_uri": "https://localhost:8080/",
          "height": 238
        },
        "id": "6ojkQHZcOe-U",
        "outputId": "a12e3101-9be8-48cd-e3f3-ef0e91ee0e3a"
      },
      "outputs": [
        {
          "output_type": "error",
          "ename": "NameError",
          "evalue": "name 'sns' is not defined",
          "traceback": [
            "\u001b[0;31m---------------------------------------------------------------------------\u001b[0m",
            "\u001b[0;31mNameError\u001b[0m                                 Traceback (most recent call last)",
            "\u001b[0;32m<ipython-input-9-75405e2493a6>\u001b[0m in \u001b[0;36m<cell line: 0>\u001b[0;34m()\u001b[0m\n\u001b[1;32m      4\u001b[0m \u001b[0;34m\u001b[0m\u001b[0m\n\u001b[1;32m      5\u001b[0m \u001b[0mplt\u001b[0m\u001b[0;34m.\u001b[0m\u001b[0mfigure\u001b[0m\u001b[0;34m(\u001b[0m\u001b[0mfigsize\u001b[0m\u001b[0;34m=\u001b[0m\u001b[0;34m(\u001b[0m\u001b[0;36m10\u001b[0m\u001b[0;34m,\u001b[0m \u001b[0;36m5\u001b[0m\u001b[0;34m)\u001b[0m\u001b[0;34m)\u001b[0m\u001b[0;34m\u001b[0m\u001b[0;34m\u001b[0m\u001b[0m\n\u001b[0;32m----> 6\u001b[0;31m \u001b[0msns\u001b[0m\u001b[0;34m.\u001b[0m\u001b[0mkdeplot\u001b[0m\u001b[0;34m(\u001b[0m\u001b[0mfraud_amounts\u001b[0m\u001b[0;34m,\u001b[0m    \u001b[0mlabel\u001b[0m\u001b[0;34m=\u001b[0m\u001b[0;34m\"Fraud\"\u001b[0m\u001b[0;34m,\u001b[0m     \u001b[0mfill\u001b[0m\u001b[0;34m=\u001b[0m\u001b[0;32mTrue\u001b[0m\u001b[0;34m)\u001b[0m\u001b[0;34m\u001b[0m\u001b[0;34m\u001b[0m\u001b[0m\n\u001b[0m\u001b[1;32m      7\u001b[0m \u001b[0msns\u001b[0m\u001b[0;34m.\u001b[0m\u001b[0mkdeplot\u001b[0m\u001b[0;34m(\u001b[0m\u001b[0mnonfraud_amounts\u001b[0m\u001b[0;34m,\u001b[0m \u001b[0mlabel\u001b[0m\u001b[0;34m=\u001b[0m\u001b[0;34m\"Non-Fraud\"\u001b[0m\u001b[0;34m,\u001b[0m \u001b[0mfill\u001b[0m\u001b[0;34m=\u001b[0m\u001b[0;32mTrue\u001b[0m\u001b[0;34m)\u001b[0m\u001b[0;34m\u001b[0m\u001b[0;34m\u001b[0m\u001b[0m\n\u001b[1;32m      8\u001b[0m \u001b[0;34m\u001b[0m\u001b[0m\n",
            "\u001b[0;31mNameError\u001b[0m: name 'sns' is not defined"
          ]
        },
        {
          "output_type": "display_data",
          "data": {
            "text/plain": [
              "<Figure size 1000x500 with 0 Axes>"
            ]
          },
          "metadata": {}
        }
      ],
      "source": [
        "# pull amount values directly from the original dataframe\n",
        "fraud_amounts     = df.loc[df[\"Class\"] == 1, \"Amount\"]\n",
        "nonfraud_amounts  = df.loc[df[\"Class\"] == 0, \"Amount\"]\n",
        "\n",
        "plt.figure(figsize=(10, 5))\n",
        "sns.kdeplot(fraud_amounts,    label=\"Fraud\",     fill=True)\n",
        "sns.kdeplot(nonfraud_amounts, label=\"Non-Fraud\", fill=True)\n",
        "\n",
        "plt.title(\"Transaction Amounts (Fraud vs. Non-Fraud)\")\n",
        "plt.xlabel(\"Amount\")\n",
        "plt.legend()\n",
        "plt.show()\n"
      ]
    },
    {
      "cell_type": "markdown",
      "metadata": {
        "id": "idiaU-KKTILf"
      },
      "source": [
        "*  Both Fraud and Non-fraud transaction amounts are heavily skewed toward smaller values.\n",
        "\n",
        "* Fraud transactions (blue line) appear concentrated around lower values (close to 0), while Non-Fraud transactions (orange line) has a broader spread into larger amounts but still concentrated near 0.\n",
        "\n",
        "  *  There are extreme values, especially for Non-Fraud transactions, where the curve extends towards 25,000.\n",
        "\n",
        "* There is significant overlap between Fraud and Non-Fraud classes at lower transaction amounts, which aligns with the summary statistics and earlier histogram analysis."
      ]
    },
    {
      "cell_type": "markdown",
      "metadata": {
        "id": "Pn-D64krYVda"
      },
      "source": [
        "## **1.8. Explained Variance Analysis for PCA Transformed Features**\n",
        "\n",
        "Since the features V1 to V28 are already PCA-transformed and the explained variance ratios were not saved or provided during the PCA process, there is no direct way to calculate the explained variance because the original PCA model and data are not available.\n",
        "\n",
        "The alternatives such as measuring feature importance of the fraud and non-fraud overlap for each feature were measured above to compensate for the lack of analysis on explained variance.\n",
        "\n"
      ]
    },
    {
      "cell_type": "markdown",
      "metadata": {
        "id": "J5e--yPdBR8X"
      },
      "source": [
        "## **1.9. Summing Up Actionable Steps for Data Preprocessing**"
      ]
    },
    {
      "cell_type": "markdown",
      "metadata": {
        "id": "JF_kTIsYmnoB"
      },
      "source": [
        "### Actionables for Data Pre-processing\n",
        "\n",
        "- **Drop low-value features**: Remove V1, V5, V6, V8, V13, V15, V23, V24, V25, V26, and V28 before any split\n",
        "\n",
        "- **Stratified split**: 70/30 train/test with stratify=Class to preserve fraud rate  \n",
        "\n",
        "- **Log‐transform Amount**: Apply np.log1p() on training & test subsets  \n",
        "\n",
        "- **Pipeline‐only scaling**: Include StandardScaler on Amount inside ColumnTransformer (no manual fit)\n",
        "\n",
        "- **Hybrid sampling**: ADASYN  + RandomUnderSampler in a FunctionSampler step inside the CV pipeline  \n",
        "\n",
        "- **Embed in ImbPipeline**: Use the sequence  \n",
        "  1. hybrid_sampling (ADASYN + undersampling)  \n",
        "  2. scaler (StandardScaler on Amount)  \n",
        "  3. classifier (chosen model)  \n",
        "  inside each pipeline so resampling and scaling run fresh on every CV fold\n",
        "\n",
        "\n",
        "\n",
        "\n",
        "\n",
        "\n",
        "\n",
        "\n"
      ]
    },
    {
      "cell_type": "markdown",
      "metadata": {
        "id": "1elBI68xqLI_"
      },
      "source": [
        "# **2. Data Preprocessing**"
      ]
    },
    {
      "cell_type": "markdown",
      "metadata": {
        "id": "UM5tPscrvrNG"
      },
      "source": [
        "In this step we will apply the data preprocessing actionable steps derived from our data analysis above."
      ]
    },
    {
      "cell_type": "markdown",
      "metadata": {
        "id": "WYe1Zon2M0bm"
      },
      "source": [
        "### **Actionable Step 1 - Drop Irrelvant Features**"
      ]
    },
    {
      "cell_type": "code",
      "execution_count": 10,
      "metadata": {
        "id": "9gI4F4zDNKcQ"
      },
      "outputs": [],
      "source": [
        "# dropping irrelevant features\n",
        "df = df.drop(columns=['V1', 'V5', 'V6', 'V8', 'V13', 'V15', 'V23', 'V24', 'V25', 'V26', 'V28'])"
      ]
    },
    {
      "cell_type": "markdown",
      "metadata": {
        "id": "nKf6YVU7tFKk"
      },
      "source": [
        "### **Actionable Step #2 - Splitting Dataset into training, validation and test sets**"
      ]
    },
    {
      "cell_type": "code",
      "execution_count": 11,
      "metadata": {
        "id": "Ae-ZCfSnwHTn"
      },
      "outputs": [],
      "source": [
        "# splitting data set into training, validation and testing\n",
        "# 0-70%: training set\n",
        "# 70-100% of Dataset: testing srt\n",
        "training_set, testing_set = train_test_split(df, test_size=0.3, random_state=42, stratify=df['Class'])\n"
      ]
    },
    {
      "cell_type": "markdown",
      "metadata": {
        "id": "QcGJUvvNNUAM"
      },
      "source": [
        "### **Actionable Step #3 - Log Transform the Amount Column**\n"
      ]
    },
    {
      "cell_type": "code",
      "execution_count": 12,
      "metadata": {
        "id": "dxIoIJVnNW2K"
      },
      "outputs": [],
      "source": [
        "# log transformation for amount\n",
        "for subset in [training_set, testing_set]:\n",
        "    subset['Amount'] = np.log1p(subset['Amount'])  # Use log1p to handle zeros safely\n"
      ]
    },
    {
      "cell_type": "code",
      "execution_count": 13,
      "metadata": {
        "colab": {
          "base_uri": "https://localhost:8080/"
        },
        "id": "eIhhhdeUBRvK",
        "outputId": "cac17a45-532f-465c-d021-6aa9bb54e36e"
      },
      "outputs": [
        {
          "output_type": "stream",
          "name": "stdout",
          "text": [
            "           Time        V2        V3        V4        V7        V9       V10  \\\n",
            "count 199364.00 199364.00 199364.00 199364.00 199364.00 199364.00 199364.00   \n",
            "mean   94898.21     -0.00     -0.00      0.00     -0.00      0.00      0.00   \n",
            "std    47489.93      1.66      1.52      1.42      1.25      1.10      1.09   \n",
            "min        0.00    -72.72    -48.33     -5.68    -43.56    -13.43    -24.59   \n",
            "25%    54253.75     -0.60     -0.89     -0.85     -0.55     -0.64     -0.53   \n",
            "50%    84845.50      0.06      0.18     -0.02      0.04     -0.05     -0.09   \n",
            "75%   139365.00      0.80      1.03      0.74      0.57      0.60      0.46   \n",
            "max   172792.00     22.06      9.38     16.88    120.59     15.59     23.75   \n",
            "\n",
            "            V11       V12       V14       V16       V17       V18       V19  \\\n",
            "count 199364.00 199364.00 199364.00 199364.00 199364.00 199364.00 199364.00   \n",
            "mean      -0.00      0.00     -0.00     -0.00      0.00     -0.00      0.00   \n",
            "std        1.02      1.00      0.96      0.88      0.85      0.84      0.81   \n",
            "min       -4.80    -18.68    -19.21    -14.13    -25.16     -9.34     -7.21   \n",
            "25%       -0.76     -0.40     -0.43     -0.47     -0.48     -0.50     -0.46   \n",
            "50%       -0.03      0.14      0.05      0.06     -0.07     -0.00      0.00   \n",
            "75%        0.74      0.62      0.49      0.52      0.40      0.50      0.46   \n",
            "max       12.02      7.85     10.53     17.32      9.25      5.04      5.57   \n",
            "\n",
            "            V20       V21       V22       V27    Amount     Class  \n",
            "count 199364.00 199364.00 199364.00 199364.00 199364.00 199364.00  \n",
            "mean      -0.00      0.00      0.00     -0.00      3.15      0.00  \n",
            "std        0.78      0.74      0.73      0.41      1.66      0.04  \n",
            "min      -54.50    -34.83    -10.93    -22.57      0.00      0.00  \n",
            "25%       -0.21     -0.23     -0.54     -0.07      1.90      0.00  \n",
            "50%       -0.06     -0.03      0.01      0.00      3.14      0.00  \n",
            "75%        0.13      0.19      0.53      0.09      4.36      0.00  \n",
            "max       39.42     27.20     10.50     31.61     10.15      1.00  \n"
          ]
        }
      ],
      "source": [
        "# compute statistical summary for the trainin set\n",
        "statistical_summary = training_set.describe()\n",
        "\n",
        "# display the summary\n",
        "pd.set_option(\"display.float_format\", \"{:.2f}\".format)\n",
        "print(statistical_summary)"
      ]
    },
    {
      "cell_type": "markdown",
      "metadata": {
        "id": "OMGOmDz1A0gF"
      },
      "source": [
        "#**3. K-Fold Cross Validation & Hyper Parameter Tuning**\n",
        "\n",
        "K-Fold Cross Validation is performed at this stage as the first 3 preprocessing steps preceding it are:\n",
        "\n",
        "- Dropping Irrelevant Features\n",
        "- Creating the Train-Test Split\n",
        "- Log Transformations of the Amount Column\n",
        "\n",
        "\n",
        "K-Fold CV has to take place before the training set undergoes Normalization and SMOTE, as these preprocessing steps need to take place inside the cross-validation loop. This is such that each fold's training portion has its own preprocessing applied without knowledge of the validation portion.\n",
        "\n"
      ]
    },
    {
      "cell_type": "markdown",
      "metadata": {
        "id": "SbavSkivB0wj"
      },
      "source": [
        "## **Setting up the Train and Test Sets for K-Fold Cross Validation**\n",
        "\n"
      ]
    },
    {
      "cell_type": "code",
      "execution_count": 14,
      "metadata": {
        "id": "XZP2bCPnB5Fe"
      },
      "outputs": [],
      "source": [
        "# Define features/targets (DO NOT SCALE OR OVERSAMPLE YET)\n",
        "X_train = training_set.drop(columns=['Class'])\n",
        "y_train = training_set['Class']\n",
        "X_test = testing_set.drop(columns=['Class'])\n",
        "y_test = testing_set['Class']"
      ]
    },
    {
      "cell_type": "markdown",
      "metadata": {
        "id": "Y_t8I1nLGpSu"
      },
      "source": [
        "## **Imports Needed**\n"
      ]
    },
    {
      "cell_type": "code",
      "execution_count": 15,
      "metadata": {
        "id": "08fwiJwkGseS"
      },
      "outputs": [],
      "source": [
        "from sklearn.model_selection import train_test_split, StratifiedKFold, cross_validate, GridSearchCV\n",
        "from sklearn.preprocessing import StandardScaler\n",
        "from sklearn.pipeline import Pipeline\n",
        "from sklearn.naive_bayes import GaussianNB, BernoulliNB\n",
        "from sklearn.linear_model import LogisticRegression\n",
        "from sklearn.ensemble import RandomForestClassifier\n",
        "from sklearn.svm import SVC\n",
        "from sklearn.metrics import classification_report, make_scorer, precision_score, recall_score, f1_score\n",
        "from imblearn.pipeline import Pipeline as ImbPipeline\n",
        "from imblearn.over_sampling import SMOTE\n",
        "from imblearn.combine import SMOTETomek\n",
        "from sklearn.compose import ColumnTransformer\n",
        "from xgboost import XGBClassifier\n",
        "from imblearn.ensemble import BalancedRandomForestClassifier\n",
        "from lightgbm import LGBMClassifier\n",
        "from sklearn.metrics import precision_recall_curve, average_precision_score, classification_report"
      ]
    },
    {
      "cell_type": "markdown",
      "metadata": {
        "id": "wOpyOH5IJ-0K"
      },
      "source": [
        "## **3.1. Defining Hyper-Parameters for each Model**\n",
        "\n",
        "This defines the search space for hyper-parameter tuning for each learning model.\n",
        "\n",
        "- **Naive Bayes** has no tunable hyper-parameters, so we leave it as an empty dictionary.\n",
        "\n",
        "- **Logistic Regression**: We tune:  \n",
        "  - *C:* controls regularization strength  \n",
        "  - *max_iter:* defines the maximum number of iterations for convergence  \n",
        "  - *solver:* selects the optimization algorithm\n",
        "\n",
        "- **Random Forest**: We tune multiple parameters such as:  \n",
        "  - *n_estimators:* the number of trees in the forest  \n",
        "  - *max_depth:* the maximum depth of each tree  \n",
        "  - *min_samples_split:* the minimum number of samples required to split an internal node  \n",
        "  - *min_samples_leaf:* the minimum number of samples required to be at a leaf node  \n",
        "  - *max_features:* the number of features to consider when looking for the best split\n",
        "\n",
        "- **Support Vector Machines (SVM)**: We tune:  \n",
        "  - *C:* controls regularization  \n",
        "  - *kernel:* specifies the kernel type (linear or RBF)  \n",
        "  - *gamma:* defines how far the influence of a single training example reaches  \n",
        "  - *class_weight:* balances the class weights automatically\n",
        "\n",
        "- **XGBoost**: We tune:  \n",
        "  - *n_estimators:* the number of boosting rounds  \n",
        "  - *max_depth:* the maximum tree depth for base learners  \n",
        "  - *learning_rate:* the step size shrinkage used in updates  \n",
        "  - *subsample:* the fraction of observations to subsample each tree  \n",
        "  - *colsample_bytree:* the fraction of features to subsample each tree\n",
        "\n",
        "- **Balanced Random Forest**: We tune:  \n",
        "  - *n_estimators:* the number of trees in the ensemble  \n",
        "  - *max_depth:* the maximum depth of each tree  \n",
        "  - *min_samples_split:* the minimum number of samples required to split an internal node  \n",
        "  - *min_samples_leaf:* the minimum number of samples required to be at a leaf node  \n",
        "  - *bootstrap:* whether bootstrap samples are used when building trees\n",
        "\n",
        "- **LightGBM**: We tune:  \n",
        "  - *n_estimators:* the number of boosting rounds  \n",
        "  - *num_leaves:* the maximum number of leaves in one tree  \n",
        "  - *learning_rate:* the step size shrinkage in each boosting step  \n",
        "  - *max_depth:* the maximum depth of each tree (–1 means no limit)  \n",
        "  - *subsample:* the fraction of data to sample for each iteration  \n",
        "  - *colsample_bytree:* the fraction of features to sample for each iteration  \n",
        "  - *scale_pos_weight:* the weight balancing for the positive (fraud) class"
      ]
    },
    {
      "cell_type": "markdown",
      "metadata": {
        "id": "lfUDMjREEytR"
      },
      "source": [
        "\n"
      ]
    },
    {
      "cell_type": "code",
      "execution_count": 16,
      "metadata": {
        "id": "m0axnjjFA3yr"
      },
      "outputs": [],
      "source": [
        "models = {\n",
        "    \"Naive Bayes\": GaussianNB(var_smoothing=1e-3),\n",
        "    \"Logistic Regression\": LogisticRegression(max_iter=1000, class_weight='balanced', random_state=42),\n",
        "    \"Support Vector Machines\": SVC(kernel='linear', class_weight='balanced', random_state=42),\n",
        "    \"Random Forest\": RandomForestClassifier(class_weight='balanced', random_state=42),\n",
        "    \"XGBoost\": XGBClassifier(use_label_encoder=False, eval_metric=\"logloss\", random_state=42),\n",
        "    \"Balanced Random Forest\": BalancedRandomForestClassifier(\n",
        "    n_estimators=200,\n",
        "    max_depth=20,\n",
        "    min_samples_split=5,\n",
        "    min_samples_leaf=3,\n",
        "    class_weight=\"balanced_subsample\",\n",
        "    bootstrap=True,\n",
        "    random_state=42\n",
        "),\n",
        "    \"LightGBM\": LGBMClassifier(objective=\"binary\", random_state=42)\n",
        "}\n",
        "\n",
        "# Define Scoring Metrics for GridSearchCV\n",
        "scoring = {\n",
        "    \"Precision\": make_scorer(precision_score, pos_label=1),\n",
        "    \"Recall\": make_scorer(recall_score, pos_label=1),\n",
        "    \"F1-Score\": make_scorer(f1_score, pos_label=1),\n",
        "}"
      ]
    },
    {
      "cell_type": "markdown",
      "metadata": {
        "id": "98vf2vKFFxoi"
      },
      "source": [
        "## **3.2. Defining Pipelines for Each Model**\n",
        "\n",
        "- ColumnTransformer ensures that only the \"Amount\" and \"Time\" columns are standardized, leaving PCA-transforme features unchanges.\n",
        "\n",
        "- Pipeline are defined to steamline training:\n",
        "  - scaler: Standardizes \"Amount\" and \"Time\"\n",
        "  - smote: Applies SMOTE inside cross-validation to balanmce fraud and non-fraud cases.\n",
        "  - classifier: The machine learning model itself.\n",
        "\n",
        "- Stratified K-Fold: is used for cross-validation to ensure each fold maintains the class imbalance distribution."
      ]
    },
    {
      "cell_type": "code",
      "execution_count": 17,
      "metadata": {
        "id": "W23mc6UhGtLV"
      },
      "outputs": [],
      "source": [
        "from imblearn.over_sampling import ADASYN\n",
        "from imblearn.under_sampling import RandomUnderSampler\n",
        "from imblearn.pipeline import Pipeline as ImbPipeline\n",
        "from sklearn.compose import ColumnTransformer\n",
        "from sklearn.preprocessing import StandardScaler\n",
        "from sklearn.model_selection import StratifiedKFold\n",
        "from imblearn import FunctionSampler\n",
        "\n",
        "# --- hybrid sampling function ---\n",
        "def apply_hybrid_sampling(X, y):\n",
        "  adasyn = ADASYN(sampling_strategy=0.2, random_state=42)\n",
        "  rus = RandomUnderSampler(sampling_strategy=0.5, random_state=42)\n",
        "\n",
        "  X_resampled, y_resampled = adasyn.fit_resample(X, y)\n",
        "  X_resampled, y_resampled = rus.fit_resample(X_resampled, y_resampled)\n",
        "\n",
        "  return X_resampled, y_resampled\n",
        "\n",
        "hybrid_sampler = FunctionSampler(func=apply_hybrid_sampling, validate=False)\n",
        "\n",
        "# functionsampler to apply the hybrid approach inside the cross-validation\n",
        "hybrid_sampler = FunctionSampler(func=apply_hybrid_sampling, validate=False)\n",
        "\n",
        "# defining standrd scaler for amoiunt feature\n",
        "scaler = ColumnTransformer(\n",
        "    transformers=[\n",
        "        ('scaler', StandardScaler(), ['Amount'])\n",
        "    ], remainder='passthrough'\n",
        ")\n",
        "\n",
        "# defining pipelines for each model\n",
        "pipelines = {}\n",
        "for model_name, model in models.items():\n",
        "  pipelines[model_name] = ImbPipeline([\n",
        "    (\"hybrid_sampling\", hybrid_sampler),\n",
        "    (\"scaler\", scaler),\n",
        "    (\"classifier\", model)\n",
        "  ])\n",
        "\n",
        "# initiilzing statified kfold\n",
        "kf = StratifiedKFold(n_splits=5, shuffle=True, random_state=42)"
      ]
    },
    {
      "cell_type": "markdown",
      "metadata": {
        "id": "jatbkTVKM5Py"
      },
      "source": [
        "## **3.3. Performing Hyper-Parameter Tuning with GridSearchCV**\n",
        "\n",
        "GridSearchCV automates tuning by exhaustively searching specified hyper-parameter grids:\n",
        "\n",
        "- For each model with a grid defined:  \n",
        "  - It evaluates every combination  \n",
        "  - Uses 5-fold stratified cross-validation to preserve the fraud/non-fraud ratio  \n",
        "  - Scores each run by F1-score and picks the top set\n",
        "\n",
        "- The selected “best” pipeline for each model is then applied to the held-out test split.\n",
        "\n",
        "- Final performance is summarized with classification reports on precision, recall, F1 and AUPRC for fraud detection.\n"
      ]
    },
    {
      "cell_type": "code",
      "execution_count": 18,
      "metadata": {
        "id": "lA6hMPpzziYU"
      },
      "outputs": [],
      "source": [
        "best_models = {}\n",
        "best_params = {}"
      ]
    },
    {
      "cell_type": "markdown",
      "metadata": {
        "id": "FvuAHP4rxu8W"
      },
      "source": [
        "### **Naive Bayes**\n"
      ]
    },
    {
      "cell_type": "code",
      "execution_count": 19,
      "metadata": {
        "colab": {
          "base_uri": "https://localhost:8080/"
        },
        "id": "WbRhEuttx0Nw",
        "outputId": "719c086a-d720-4771-a176-545f61fdc49a"
      },
      "outputs": [
        {
          "output_type": "stream",
          "name": "stdout",
          "text": [
            "Fitting 5 folds for each of 4 candidates, totalling 20 fits\n",
            "Best Parameters for Naive Bayes: {'classifier__var_smoothing': 1e-09}\n",
            "\n",
            "\n",
            "Naive Bayes Performance on Test Set:\n",
            "              precision    recall  f1-score   support\n",
            "\n",
            "           0       1.00      1.00      1.00     85295\n",
            "           1       0.22      0.80      0.34       148\n",
            "\n",
            "    accuracy                           0.99     85443\n",
            "   macro avg       0.61      0.90      0.67     85443\n",
            "weighted avg       1.00      0.99      1.00     85443\n",
            "\n"
          ]
        }
      ],
      "source": [
        "# Define the parameter grid for Naive Bayes\n",
        "nb_param_grid = {\n",
        "    \"classifier__var_smoothing\": [1e-9, 1e-6, 1e-3, 1e-1]\n",
        "}\n",
        "\n",
        "# Run GridSearchCV for Naive Bayes\n",
        "grid_search_nb = GridSearchCV(\n",
        "    pipelines[\"Naive Bayes\"],\n",
        "    nb_param_grid,\n",
        "    cv=kf,\n",
        "    scoring=\"f1\",\n",
        "    n_jobs=-1,\n",
        "    verbose=1\n",
        ")\n",
        "\n",
        "grid_search_nb.fit(X_train, y_train)\n",
        "best_models[\"Naive Bayes\"] = grid_search_nb.best_estimator_\n",
        "best_params[\"Naive Bayes\"] = grid_search_nb.best_params_\n",
        "\n",
        "print(f\"Best Parameters for Naive Bayes: {grid_search_nb.best_params_}\\n\")\n",
        "\n",
        "# --- Evaluate on Test Set ---\n",
        "y_pred_nb = best_models[\"Naive Bayes\"].predict(X_test)\n",
        "print(\"\\nNaive Bayes Performance on Test Set:\")\n",
        "print(classification_report(y_test, y_pred_nb))"
      ]
    },
    {
      "cell_type": "markdown",
      "metadata": {
        "id": "bDJ95a39x0w_"
      },
      "source": [
        "### **Logistic Regression (Hyper-parameter Tuning)**"
      ]
    },
    {
      "cell_type": "code",
      "execution_count": 21,
      "metadata": {
        "colab": {
          "base_uri": "https://localhost:8080/"
        },
        "id": "PUm6EYBEx3nO",
        "outputId": "f70e5d52-2d8f-41ff-c313-23a2720bdab0"
      },
      "outputs": [
        {
          "output_type": "stream",
          "name": "stdout",
          "text": [
            "Running GridSearchCV for Logistic Regression...\n",
            "\n",
            "Fitting 5 folds for each of 24 candidates, totalling 120 fits\n",
            "Best Parameters for Logistic Regression: {'classifier__C': 0.01, 'classifier__max_iter': 500, 'classifier__solver': 'saga'}\n",
            "\n",
            "\n",
            "Logistic Regression Performance on Test Set:\n",
            "              precision    recall  f1-score   support\n",
            "\n",
            "           0       1.00      1.00      1.00     85295\n",
            "           1       0.27      0.55      0.36       148\n",
            "\n",
            "    accuracy                           1.00     85443\n",
            "   macro avg       0.64      0.77      0.68     85443\n",
            "weighted avg       1.00      1.00      1.00     85443\n",
            "\n"
          ]
        },
        {
          "output_type": "stream",
          "name": "stderr",
          "text": [
            "/usr/local/lib/python3.11/dist-packages/sklearn/linear_model/_sag.py:348: ConvergenceWarning: The max_iter was reached which means the coef_ did not converge\n",
            "  warnings.warn(\n"
          ]
        }
      ],
      "source": [
        "from sklearn.model_selection import GridSearchCV\n",
        "\n",
        "print(\"Running GridSearchCV for Logistic Regression...\\n\")\n",
        "\n",
        "# Parameters for Logistic Regression\n",
        "lr_param_grid = {\n",
        "    \"classifier__C\": [0.01, 0.1, 1, 10],\n",
        "    \"classifier__max_iter\": [100, 500, 1000],\n",
        "    \"classifier__solver\": [\"liblinear\", \"saga\"]\n",
        "}\n",
        "\n",
        "lr_pipeline = pipelines[\"Logistic Regression\"]\n",
        "grid_search_lr = GridSearchCV(\n",
        "    lr_pipeline,\n",
        "    lr_param_grid,\n",
        "    cv=kf,\n",
        "    scoring=\"f1\",\n",
        "    n_jobs=-1,\n",
        "    verbose=1\n",
        ")\n",
        "\n",
        "# Fit the model\n",
        "grid_search_lr.fit(X_train, y_train)\n",
        "\n",
        "# Store the best model and parameters\n",
        "best_models[\"Logistic Regression\"] = grid_search_lr.best_estimator_\n",
        "best_params[\"Logistic Regression\"] = grid_search_lr.best_params_\n",
        "\n",
        "print(f\"Best Parameters for Logistic Regression: {grid_search_lr.best_params_}\\n\")\n",
        "\n",
        "# --- Evaluate on Test Set ---\n",
        "y_pred_lr = best_models[\"Logistic Regression\"].predict(X_test)\n",
        "print(\"\\nLogistic Regression Performance on Test Set:\")\n",
        "print(classification_report(y_test, y_pred_lr))\n"
      ]
    },
    {
      "cell_type": "markdown",
      "metadata": {
        "id": "lTgicAeSx5TD"
      },
      "source": [
        "### **Random Forest (Hyper-parameter Tuning)**"
      ]
    },
    {
      "cell_type": "code",
      "execution_count": 22,
      "metadata": {
        "colab": {
          "base_uri": "https://localhost:8080/"
        },
        "id": "sYyCZnY_x8EQ",
        "outputId": "d4047575-a386-43c9-b809-9c3546f49340"
      },
      "outputs": [
        {
          "output_type": "stream",
          "name": "stdout",
          "text": [
            "Running GridSearchCV for Random Forest...\n",
            "\n",
            "Fitting 5 folds for each of 16 candidates, totalling 80 fits\n",
            "Best Parameters for Random Forest: {'classifier__max_depth': None, 'classifier__max_features': 'sqrt', 'classifier__min_samples_leaf': 1, 'classifier__min_samples_split': 2, 'classifier__n_estimators': 100}\n",
            "\n",
            "\n",
            "Random Forest Performance on Test Set:\n",
            "              precision    recall  f1-score   support\n",
            "\n",
            "           0       1.00      1.00      1.00     85295\n",
            "           1       0.78      0.81      0.79       148\n",
            "\n",
            "    accuracy                           1.00     85443\n",
            "   macro avg       0.89      0.91      0.90     85443\n",
            "weighted avg       1.00      1.00      1.00     85443\n",
            "\n"
          ]
        }
      ],
      "source": [
        "print(\"Running GridSearchCV for Random Forest...\\n\")\n",
        "\n",
        "rf_param_grid = {\n",
        "    \"classifier__n_estimators\": [100, 200],\n",
        "    \"classifier__max_depth\":    [15, None],\n",
        "    \"classifier__min_samples_split\": [2, 5],\n",
        "    \"classifier__min_samples_leaf\":  [1, 2],\n",
        "    \"classifier__max_features\": [\"sqrt\"]\n",
        "}\n",
        "\n",
        "rf_pipeline = pipelines[\"Random Forest\"]\n",
        "grid_search_rf = GridSearchCV(\n",
        "    rf_pipeline,\n",
        "    rf_param_grid,\n",
        "    cv=kf,\n",
        "    scoring=\"f1\",\n",
        "    n_jobs=-1,\n",
        "    verbose=1\n",
        ")\n",
        "\n",
        "# Fit the model\n",
        "grid_search_rf.fit(X_train, y_train)\n",
        "\n",
        "# Store the best model and parameters\n",
        "best_models[\"Random Forest\"] = grid_search_rf.best_estimator_\n",
        "best_params[\"Random Forest\"] = grid_search_rf.best_params_\n",
        "\n",
        "print(f\"Best Parameters for Random Forest: {grid_search_rf.best_params_}\\n\")\n",
        "\n",
        "# --- Evaluate on Test Set ---\n",
        "y_pred_rf = best_models[\"Random Forest\"].predict(X_test)\n",
        "print(\"\\nRandom Forest Performance on Test Set:\")\n",
        "print(classification_report(y_test, y_pred_rf))\n"
      ]
    },
    {
      "cell_type": "markdown",
      "metadata": {
        "id": "qRsIbkYwyBEh"
      },
      "source": [
        "### **Support Vector Machines (Hyper-parameter Tuning)**"
      ]
    },
    {
      "cell_type": "code",
      "execution_count": 23,
      "metadata": {
        "colab": {
          "base_uri": "https://localhost:8080/",
          "height": 426
        },
        "id": "U8W1u2wXyJiU",
        "outputId": "c9e1d9f3-20a3-4aae-d6dc-4064c069839d"
      },
      "outputs": [
        {
          "output_type": "stream",
          "name": "stdout",
          "text": [
            "Running GridSearchCV for Support Vector Machines...\n",
            "\n",
            "Fitting 5 folds for each of 32 candidates, totalling 160 fits\n"
          ]
        },
        {
          "output_type": "error",
          "ename": "KeyboardInterrupt",
          "evalue": "",
          "traceback": [
            "\u001b[0;31m---------------------------------------------------------------------------\u001b[0m",
            "\u001b[0;31mKeyboardInterrupt\u001b[0m                         Traceback (most recent call last)",
            "\u001b[0;32m<ipython-input-23-1791b3d25398>\u001b[0m in \u001b[0;36m<cell line: 0>\u001b[0;34m()\u001b[0m\n\u001b[1;32m     19\u001b[0m \u001b[0;34m\u001b[0m\u001b[0m\n\u001b[1;32m     20\u001b[0m \u001b[0;31m# Fit the model\u001b[0m\u001b[0;34m\u001b[0m\u001b[0;34m\u001b[0m\u001b[0m\n\u001b[0;32m---> 21\u001b[0;31m \u001b[0mgrid_search_svm\u001b[0m\u001b[0;34m.\u001b[0m\u001b[0mfit\u001b[0m\u001b[0;34m(\u001b[0m\u001b[0mX_train\u001b[0m\u001b[0;34m,\u001b[0m \u001b[0my_train\u001b[0m\u001b[0;34m)\u001b[0m\u001b[0;34m\u001b[0m\u001b[0;34m\u001b[0m\u001b[0m\n\u001b[0m\u001b[1;32m     22\u001b[0m \u001b[0;34m\u001b[0m\u001b[0m\n\u001b[1;32m     23\u001b[0m \u001b[0;31m# Store the best model and parameters\u001b[0m\u001b[0;34m\u001b[0m\u001b[0;34m\u001b[0m\u001b[0m\n",
            "\u001b[0;32m/usr/local/lib/python3.11/dist-packages/sklearn/base.py\u001b[0m in \u001b[0;36mwrapper\u001b[0;34m(estimator, *args, **kwargs)\u001b[0m\n\u001b[1;32m   1387\u001b[0m                 )\n\u001b[1;32m   1388\u001b[0m             ):\n\u001b[0;32m-> 1389\u001b[0;31m                 \u001b[0;32mreturn\u001b[0m \u001b[0mfit_method\u001b[0m\u001b[0;34m(\u001b[0m\u001b[0mestimator\u001b[0m\u001b[0;34m,\u001b[0m \u001b[0;34m*\u001b[0m\u001b[0margs\u001b[0m\u001b[0;34m,\u001b[0m \u001b[0;34m**\u001b[0m\u001b[0mkwargs\u001b[0m\u001b[0;34m)\u001b[0m\u001b[0;34m\u001b[0m\u001b[0;34m\u001b[0m\u001b[0m\n\u001b[0m\u001b[1;32m   1390\u001b[0m \u001b[0;34m\u001b[0m\u001b[0m\n\u001b[1;32m   1391\u001b[0m         \u001b[0;32mreturn\u001b[0m \u001b[0mwrapper\u001b[0m\u001b[0;34m\u001b[0m\u001b[0;34m\u001b[0m\u001b[0m\n",
            "\u001b[0;32m/usr/local/lib/python3.11/dist-packages/sklearn/model_selection/_search.py\u001b[0m in \u001b[0;36mfit\u001b[0;34m(self, X, y, **params)\u001b[0m\n\u001b[1;32m   1022\u001b[0m                 \u001b[0;32mreturn\u001b[0m \u001b[0mresults\u001b[0m\u001b[0;34m\u001b[0m\u001b[0;34m\u001b[0m\u001b[0m\n\u001b[1;32m   1023\u001b[0m \u001b[0;34m\u001b[0m\u001b[0m\n\u001b[0;32m-> 1024\u001b[0;31m             \u001b[0mself\u001b[0m\u001b[0;34m.\u001b[0m\u001b[0m_run_search\u001b[0m\u001b[0;34m(\u001b[0m\u001b[0mevaluate_candidates\u001b[0m\u001b[0;34m)\u001b[0m\u001b[0;34m\u001b[0m\u001b[0;34m\u001b[0m\u001b[0m\n\u001b[0m\u001b[1;32m   1025\u001b[0m \u001b[0;34m\u001b[0m\u001b[0m\n\u001b[1;32m   1026\u001b[0m             \u001b[0;31m# multimetric is determined here because in the case of a callable\u001b[0m\u001b[0;34m\u001b[0m\u001b[0;34m\u001b[0m\u001b[0m\n",
            "\u001b[0;32m/usr/local/lib/python3.11/dist-packages/sklearn/model_selection/_search.py\u001b[0m in \u001b[0;36m_run_search\u001b[0;34m(self, evaluate_candidates)\u001b[0m\n\u001b[1;32m   1569\u001b[0m     \u001b[0;32mdef\u001b[0m \u001b[0m_run_search\u001b[0m\u001b[0;34m(\u001b[0m\u001b[0mself\u001b[0m\u001b[0;34m,\u001b[0m \u001b[0mevaluate_candidates\u001b[0m\u001b[0;34m)\u001b[0m\u001b[0;34m:\u001b[0m\u001b[0;34m\u001b[0m\u001b[0;34m\u001b[0m\u001b[0m\n\u001b[1;32m   1570\u001b[0m         \u001b[0;34m\"\"\"Search all candidates in param_grid\"\"\"\u001b[0m\u001b[0;34m\u001b[0m\u001b[0;34m\u001b[0m\u001b[0m\n\u001b[0;32m-> 1571\u001b[0;31m         \u001b[0mevaluate_candidates\u001b[0m\u001b[0;34m(\u001b[0m\u001b[0mParameterGrid\u001b[0m\u001b[0;34m(\u001b[0m\u001b[0mself\u001b[0m\u001b[0;34m.\u001b[0m\u001b[0mparam_grid\u001b[0m\u001b[0;34m)\u001b[0m\u001b[0;34m)\u001b[0m\u001b[0;34m\u001b[0m\u001b[0;34m\u001b[0m\u001b[0m\n\u001b[0m\u001b[1;32m   1572\u001b[0m \u001b[0;34m\u001b[0m\u001b[0m\n\u001b[1;32m   1573\u001b[0m \u001b[0;34m\u001b[0m\u001b[0m\n",
            "\u001b[0;32m/usr/local/lib/python3.11/dist-packages/sklearn/model_selection/_search.py\u001b[0m in \u001b[0;36mevaluate_candidates\u001b[0;34m(candidate_params, cv, more_results)\u001b[0m\n\u001b[1;32m    968\u001b[0m                     )\n\u001b[1;32m    969\u001b[0m \u001b[0;34m\u001b[0m\u001b[0m\n\u001b[0;32m--> 970\u001b[0;31m                 out = parallel(\n\u001b[0m\u001b[1;32m    971\u001b[0m                     delayed(_fit_and_score)(\n\u001b[1;32m    972\u001b[0m                         \u001b[0mclone\u001b[0m\u001b[0;34m(\u001b[0m\u001b[0mbase_estimator\u001b[0m\u001b[0;34m)\u001b[0m\u001b[0;34m,\u001b[0m\u001b[0;34m\u001b[0m\u001b[0;34m\u001b[0m\u001b[0m\n",
            "\u001b[0;32m/usr/local/lib/python3.11/dist-packages/sklearn/utils/parallel.py\u001b[0m in \u001b[0;36m__call__\u001b[0;34m(self, iterable)\u001b[0m\n\u001b[1;32m     75\u001b[0m             \u001b[0;32mfor\u001b[0m \u001b[0mdelayed_func\u001b[0m\u001b[0;34m,\u001b[0m \u001b[0margs\u001b[0m\u001b[0;34m,\u001b[0m \u001b[0mkwargs\u001b[0m \u001b[0;32min\u001b[0m \u001b[0miterable\u001b[0m\u001b[0;34m\u001b[0m\u001b[0;34m\u001b[0m\u001b[0m\n\u001b[1;32m     76\u001b[0m         )\n\u001b[0;32m---> 77\u001b[0;31m         \u001b[0;32mreturn\u001b[0m \u001b[0msuper\u001b[0m\u001b[0;34m(\u001b[0m\u001b[0;34m)\u001b[0m\u001b[0;34m.\u001b[0m\u001b[0m__call__\u001b[0m\u001b[0;34m(\u001b[0m\u001b[0miterable_with_config\u001b[0m\u001b[0;34m)\u001b[0m\u001b[0;34m\u001b[0m\u001b[0;34m\u001b[0m\u001b[0m\n\u001b[0m\u001b[1;32m     78\u001b[0m \u001b[0;34m\u001b[0m\u001b[0m\n\u001b[1;32m     79\u001b[0m \u001b[0;34m\u001b[0m\u001b[0m\n",
            "\u001b[0;32m/usr/local/lib/python3.11/dist-packages/joblib/parallel.py\u001b[0m in \u001b[0;36m__call__\u001b[0;34m(self, iterable)\u001b[0m\n\u001b[1;32m   2005\u001b[0m         \u001b[0mnext\u001b[0m\u001b[0;34m(\u001b[0m\u001b[0moutput\u001b[0m\u001b[0;34m)\u001b[0m\u001b[0;34m\u001b[0m\u001b[0;34m\u001b[0m\u001b[0m\n\u001b[1;32m   2006\u001b[0m \u001b[0;34m\u001b[0m\u001b[0m\n\u001b[0;32m-> 2007\u001b[0;31m         \u001b[0;32mreturn\u001b[0m \u001b[0moutput\u001b[0m \u001b[0;32mif\u001b[0m \u001b[0mself\u001b[0m\u001b[0;34m.\u001b[0m\u001b[0mreturn_generator\u001b[0m \u001b[0;32melse\u001b[0m \u001b[0mlist\u001b[0m\u001b[0;34m(\u001b[0m\u001b[0moutput\u001b[0m\u001b[0;34m)\u001b[0m\u001b[0;34m\u001b[0m\u001b[0;34m\u001b[0m\u001b[0m\n\u001b[0m\u001b[1;32m   2008\u001b[0m \u001b[0;34m\u001b[0m\u001b[0m\n\u001b[1;32m   2009\u001b[0m     \u001b[0;32mdef\u001b[0m \u001b[0m__repr__\u001b[0m\u001b[0;34m(\u001b[0m\u001b[0mself\u001b[0m\u001b[0;34m)\u001b[0m\u001b[0;34m:\u001b[0m\u001b[0;34m\u001b[0m\u001b[0;34m\u001b[0m\u001b[0m\n",
            "\u001b[0;32m/usr/local/lib/python3.11/dist-packages/joblib/parallel.py\u001b[0m in \u001b[0;36m_get_outputs\u001b[0;34m(self, iterator, pre_dispatch)\u001b[0m\n\u001b[1;32m   1648\u001b[0m \u001b[0;34m\u001b[0m\u001b[0m\n\u001b[1;32m   1649\u001b[0m             \u001b[0;32mwith\u001b[0m \u001b[0mself\u001b[0m\u001b[0;34m.\u001b[0m\u001b[0m_backend\u001b[0m\u001b[0;34m.\u001b[0m\u001b[0mretrieval_context\u001b[0m\u001b[0;34m(\u001b[0m\u001b[0;34m)\u001b[0m\u001b[0;34m:\u001b[0m\u001b[0;34m\u001b[0m\u001b[0;34m\u001b[0m\u001b[0m\n\u001b[0;32m-> 1650\u001b[0;31m                 \u001b[0;32myield\u001b[0m \u001b[0;32mfrom\u001b[0m \u001b[0mself\u001b[0m\u001b[0;34m.\u001b[0m\u001b[0m_retrieve\u001b[0m\u001b[0;34m(\u001b[0m\u001b[0;34m)\u001b[0m\u001b[0;34m\u001b[0m\u001b[0;34m\u001b[0m\u001b[0m\n\u001b[0m\u001b[1;32m   1651\u001b[0m \u001b[0;34m\u001b[0m\u001b[0m\n\u001b[1;32m   1652\u001b[0m         \u001b[0;32mexcept\u001b[0m \u001b[0mGeneratorExit\u001b[0m\u001b[0;34m:\u001b[0m\u001b[0;34m\u001b[0m\u001b[0;34m\u001b[0m\u001b[0m\n",
            "\u001b[0;32m/usr/local/lib/python3.11/dist-packages/joblib/parallel.py\u001b[0m in \u001b[0;36m_retrieve\u001b[0;34m(self)\u001b[0m\n\u001b[1;32m   1760\u001b[0m                 (self._jobs[0].get_status(\n\u001b[1;32m   1761\u001b[0m                     timeout=self.timeout) == TASK_PENDING)):\n\u001b[0;32m-> 1762\u001b[0;31m                 \u001b[0mtime\u001b[0m\u001b[0;34m.\u001b[0m\u001b[0msleep\u001b[0m\u001b[0;34m(\u001b[0m\u001b[0;36m0.01\u001b[0m\u001b[0;34m)\u001b[0m\u001b[0;34m\u001b[0m\u001b[0;34m\u001b[0m\u001b[0m\n\u001b[0m\u001b[1;32m   1763\u001b[0m                 \u001b[0;32mcontinue\u001b[0m\u001b[0;34m\u001b[0m\u001b[0;34m\u001b[0m\u001b[0m\n\u001b[1;32m   1764\u001b[0m \u001b[0;34m\u001b[0m\u001b[0m\n",
            "\u001b[0;31mKeyboardInterrupt\u001b[0m: "
          ]
        }
      ],
      "source": [
        "'''print(\"Running GridSearchCV for Support Vector Machines...\\n\")\n",
        "\n",
        "svm_param_grid = {\n",
        "    \"classifier__C\": [0.1, 1, 10, 100],\n",
        "    \"classifier__kernel\": [\"linear\", \"rbf\"],\n",
        "    \"classifier__gamma\": [\"scale\", \"auto\"],\n",
        "    \"classifier__class_weight\": [None, \"balanced\"]\n",
        "}\n",
        "\n",
        "svm_pipeline = pipelines[\"Support Vector Machines\"]\n",
        "grid_search_svm = GridSearchCV(\n",
        "    svm_pipeline,\n",
        "    svm_param_grid,\n",
        "    cv=kf,\n",
        "    scoring=\"f1\",\n",
        "    n_jobs=-1,\n",
        "    verbose=1\n",
        ")\n",
        "\n",
        "# Fit the model\n",
        "grid_search_svm.fit(X_train, y_train)\n",
        "\n",
        "# Store the best model and parameters\n",
        "best_models[\"Support Vector Machines\"] = grid_search_svm.best_estimator_\n",
        "best_params[\"Support Vector Machines\"] = grid_search_svm.best_params_\n",
        "\n",
        "print(f\"Best Parameters for Support Vector Machines: {grid_search_svm.best_params_}\\n\")\n",
        "\n",
        "# --- Evaluate on Test Set ---\n",
        "y_pred_svm = best_models[\"Support Vector Machines\"].predict(X_test)\n",
        "print(\"\\nSupport Vector Machines Performance on Test Set:\")\n",
        "print(classification_report(y_test, y_pred_svm))\n"
      ]
    },
    {
      "cell_type": "markdown",
      "metadata": {
        "id": "puMyA6aWvbW_"
      },
      "source": [
        "### **XGBoost (Hyper-parameter Tuning)**"
      ]
    },
    {
      "cell_type": "code",
      "execution_count": 24,
      "metadata": {
        "id": "ArSw2HRovg8i",
        "colab": {
          "base_uri": "https://localhost:8080/",
          "height": 892
        },
        "outputId": "bd6d529c-8612-4d75-ee05-4b21e5e1ecfa"
      },
      "outputs": [
        {
          "output_type": "stream",
          "name": "stdout",
          "text": [
            "Fitting 5 folds for each of 108 candidates, totalling 540 fits\n"
          ]
        },
        {
          "output_type": "stream",
          "name": "stderr",
          "text": [
            "/usr/local/lib/python3.11/dist-packages/xgboost/core.py:158: UserWarning: [16:41:47] WARNING: /workspace/src/learner.cc:740: \n",
            "Parameters: { \"use_label_encoder\" } are not used.\n",
            "\n",
            "  warnings.warn(smsg, UserWarning)\n"
          ]
        },
        {
          "output_type": "stream",
          "name": "stdout",
          "text": [
            "Best Parameters for XGBoost: {'classifier__colsample_bytree': 0.8, 'classifier__learning_rate': 0.1, 'classifier__max_depth': 9, 'classifier__n_estimators': 200, 'classifier__subsample': 0.8}\n",
            "\n",
            "\n",
            "XGBoost Performance on Test Set:\n",
            "              precision    recall  f1-score   support\n",
            "\n",
            "           0       1.00      1.00      1.00     85295\n",
            "           1       0.72      0.82      0.77       148\n",
            "\n",
            "    accuracy                           1.00     85443\n",
            "   macro avg       0.86      0.91      0.88     85443\n",
            "weighted avg       1.00      1.00      1.00     85443\n",
            "\n"
          ]
        },
        {
          "output_type": "display_data",
          "data": {
            "text/plain": [
              "<Figure size 800x600 with 1 Axes>"
            ],
            "image/png": "[encoded data removed]"
          },
          "metadata": {}
        }
      ],
      "source": [
        "from xgboost import XGBClassifier\n",
        "\n",
        "# Define the parameter grid for XGBoost\n",
        "xgb_param_grid = {\n",
        "    \"classifier__n_estimators\": [50, 100, 200],  # Number of trees\n",
        "    \"classifier__max_depth\": [3, 6, 9],  # Depth of trees\n",
        "    \"classifier__learning_rate\": [0.01, 0.1, 0.2],  # Step size shrinkage\n",
        "    \"classifier__subsample\": [0.8, 1.0],  # Fraction of samples used for training each tree\n",
        "    \"classifier__colsample_bytree\": [0.8, 1.0]  # Fraction of features used for each tree\n",
        "}\n",
        "\n",
        "# Define XGBoost Pipeline\n",
        "pipelines[\"XGBoost\"] = ImbPipeline([\n",
        "    (\"scaler\", scaler),  # Apply scaling to Amount (already defined)\n",
        "    (\"hybrid_sampling\", hybrid_sampler),  # Apply ADASYN + Undersampling\n",
        "    (\"classifier\", models[\"XGBoost\"])  # XGBoost model\n",
        "])\n",
        "\n",
        "# Run GridSearchCV for XGBoost\n",
        "grid_search_xgb = GridSearchCV(\n",
        "  pipelines[\"XGBoost\"],\n",
        "  xgb_param_grid,\n",
        "  cv=kf,\n",
        "  scoring=\"f1\",\n",
        "  n_jobs=-1,\n",
        "  verbose=1\n",
        ")\n",
        "\n",
        "grid_search_xgb.fit(X_train, y_train)\n",
        "best_models[\"XGBoost\"] = grid_search_xgb.best_estimator_\n",
        "best_params[\"XGBoost\"] = grid_search_xgb.best_params_\n",
        "\n",
        "print(f\"Best Parameters for XGBoost: {grid_search_xgb.best_params_}\\n\")\n",
        "\n",
        "# --- Evaluate on Test Set ---\n",
        "y_pred_xgb = best_models[\"XGBoost\"].predict(X_test)\n",
        "print(\"\\nXGBoost Performance on Test Set:\")\n",
        "print(classification_report(y_test, y_pred_xgb))\n",
        "\n",
        "# --- Precision-Recall Curve ---\n",
        "# Get predicted probabilities for the positive class (fraud)\n",
        "y_scores_xgb = best_models[\"XGBoost\"].predict_proba(X_test)[:, 1]\n",
        "\n",
        "# Compute precision-recall curve and average precision score\n",
        "precision, recall, _ = precision_recall_curve(y_test, y_scores_xgb)\n",
        "avg_precision = average_precision_score(y_test, y_scores_xgb)\n",
        "\n",
        "# Plot Precision-Recall Curve\n",
        "plt.figure(figsize=(8, 6))\n",
        "plt.plot(recall, precision, label=f'AP = {avg_precision:.2f}', color='darkorange')\n",
        "plt.xlabel('Recall')\n",
        "plt.ylabel('Precision')\n",
        "plt.title('Precision-Recall Curve for XGBoost')\n",
        "plt.legend()\n",
        "plt.grid()\n",
        "plt.show()\n"
      ]
    },
    {
      "cell_type": "markdown",
      "metadata": {
        "id": "1pyMUI9gJV3X"
      },
      "source": []
    },
    {
      "cell_type": "markdown",
      "metadata": {
        "id": "gKUasgvosBDW"
      },
      "source": [
        "### **LightGBM (Hyper-parameter Tuning)**"
      ]
    },
    {
      "cell_type": "code",
      "execution_count": 25,
      "metadata": {
        "id": "sBmOhfq75xb2",
        "colab": {
          "base_uri": "https://localhost:8080/",
          "height": 1000
        },
        "outputId": "1b116029-5c95-40fd-d1c7-b7a241394c57"
      },
      "outputs": [
        {
          "output_type": "stream",
          "name": "stdout",
          "text": [
            "Running GridSearchCV for LightGBM...\n",
            "\n",
            "Fitting 5 folds for each of 32 candidates, totalling 160 fits\n"
          ]
        },
        {
          "output_type": "stream",
          "name": "stderr",
          "text": [
            "/usr/local/lib/python3.11/dist-packages/sklearn/utils/deprecation.py:151: FutureWarning: 'force_all_finite' was renamed to 'ensure_all_finite' in 1.6 and will be removed in 1.8.\n",
            "  warnings.warn(\n"
          ]
        },
        {
          "output_type": "stream",
          "name": "stdout",
          "text": [
            "[LightGBM] [Info] Number of positive: 39744, number of negative: 79488\n",
            "[LightGBM] [Info] Auto-choosing row-wise multi-threading, the overhead of testing was 0.008544 seconds.\n",
            "You can set `force_row_wise=true` to remove the overhead.\n",
            "And if memory is not enough, you can set `force_col_wise=true`.\n",
            "[LightGBM] [Info] Total Bins 4845\n",
            "[LightGBM] [Info] Number of data points in the train set: 119232, number of used features: 19\n",
            "[LightGBM] [Info] [binary:BoostFromScore]: pavg=0.333333 -> initscore=-0.693147\n",
            "[LightGBM] [Info] Start training from score -0.693147\n",
            "Best Parameters for LightGBM: {'classifier__boosting_type': 'gbdt', 'classifier__colsample_bytree': 1.0, 'classifier__learning_rate': 0.1, 'classifier__max_depth': -1, 'classifier__n_estimators': 200, 'classifier__num_leaves': 50, 'classifier__scale_pos_weight': 10, 'classifier__subsample': 1.0}\n",
            "\n"
          ]
        },
        {
          "output_type": "stream",
          "name": "stderr",
          "text": [
            "/usr/local/lib/python3.11/dist-packages/sklearn/utils/deprecation.py:151: FutureWarning: 'force_all_finite' was renamed to 'ensure_all_finite' in 1.6 and will be removed in 1.8.\n",
            "  warnings.warn(\n"
          ]
        },
        {
          "output_type": "stream",
          "name": "stdout",
          "text": [
            "\n",
            "LightGBM Performance on Test Set:\n",
            "              precision    recall  f1-score   support\n",
            "\n",
            "           0       1.00      1.00      1.00     85295\n",
            "           1       0.73      0.81      0.77       148\n",
            "\n",
            "    accuracy                           1.00     85443\n",
            "   macro avg       0.87      0.91      0.88     85443\n",
            "weighted avg       1.00      1.00      1.00     85443\n",
            "\n"
          ]
        },
        {
          "output_type": "stream",
          "name": "stderr",
          "text": [
            "/usr/local/lib/python3.11/dist-packages/sklearn/utils/deprecation.py:151: FutureWarning: 'force_all_finite' was renamed to 'ensure_all_finite' in 1.6 and will be removed in 1.8.\n",
            "  warnings.warn(\n"
          ]
        },
        {
          "output_type": "display_data",
          "data": {
            "text/plain": [
              "<Figure size 800x600 with 1 Axes>"
            ],
            "image/png": "[encoded data removed]"
          },
          "metadata": {}
        }
      ],
      "source": [
        "from lightgbm import LGBMClassifier\n",
        "\n",
        "print(\"Running GridSearchCV for LightGBM...\\n\")\n",
        "\n",
        "# Define the hyperparameter grid for LightGBM\n",
        "lgbm_param_grid = {\n",
        "    \"classifier__n_estimators\": [100, 200],\n",
        "    \"classifier__max_depth\": [-1],  # -1 allows automatic depth selection\n",
        "    \"classifier__learning_rate\": [0.05, 0.1],  # Keeps it small but not too slow\n",
        "    \"classifier__num_leaves\": [31, 50],  # Default setting (optimized for speed)\n",
        "    \"classifier__boosting_type\": [\"gbdt\"],  # Only use GBDT (fastest and best generalization)\n",
        "    \"classifier__subsample\": [1.0],  # Use full data for training (avoid unnecessary complexity)\n",
        "    \"classifier__colsample_bytree\": [1.0],  # Use all features in each boosting round\n",
        "    \"classifier__scale_pos_weight\": [10, 25, 50, 100]  # Helps balance fraud class\n",
        "}\n",
        "\n",
        "# Define LightGBM Pipeline\n",
        "pipelines[\"LightGBM\"] = ImbPipeline([\n",
        "    (\"scaler\", scaler),  # Apply scaling to Amount (already defined)\n",
        "    (\"hybrid_sampling\", hybrid_sampler),  # Apply ADASYN + Undersampling\n",
        "    (\"classifier\", models[\"LightGBM\"])  # LightGBM model\n",
        "])\n",
        "\n",
        "# Run GridSearchCV for LightGBM\n",
        "grid_search_lgbm = GridSearchCV(\n",
        "    pipelines[\"LightGBM\"],\n",
        "    lgbm_param_grid,\n",
        "    cv=kf,\n",
        "    scoring=\"f1\",\n",
        "    n_jobs=-1,\n",
        "    verbose=1\n",
        ")\n",
        "\n",
        "# Fit the model\n",
        "grid_search_lgbm.fit(X_train, y_train)\n",
        "\n",
        "# Store the best model and parameters\n",
        "best_models[\"LightGBM\"] = grid_search_lgbm.best_estimator_\n",
        "best_params[\"LightGBM\"] = grid_search_lgbm.best_params_\n",
        "\n",
        "print(f\"Best Parameters for LightGBM: {grid_search_lgbm.best_params_}\\n\")\n",
        "\n",
        "# --- Evaluate on Test Set ---\n",
        "y_pred_lgbm = best_models[\"LightGBM\"].predict(X_test)\n",
        "print(\"\\nLightGBM Performance on Test Set:\")\n",
        "print(classification_report(y_test, y_pred_lgbm))\n",
        "\n",
        "# --- Precision-Recall Curve ---\n",
        "# Get predicted probabilities for the positive class (fraud)\n",
        "y_scores_lgbm = best_models[\"LightGBM\"].predict_proba(X_test)[:, 1]\n",
        "\n",
        "# Compute precision-recall curve and average precision score\n",
        "precision, recall, _ = precision_recall_curve(y_test, y_scores_lgbm)\n",
        "avg_precision = average_precision_score(y_test, y_scores_lgbm)\n",
        "\n",
        "# Plot Precision-Recall Curve\n",
        "plt.figure(figsize=(8, 6))\n",
        "plt.plot(recall, precision, label=f'AP = {avg_precision:.2f}', color='purple')\n",
        "plt.xlabel('Recall')\n",
        "plt.ylabel('Precision')\n",
        "plt.title('Precision-Recall Curve for LightGBM')\n",
        "plt.legend()\n",
        "plt.grid()\n",
        "plt.show()\n"
      ]
    },
    {
      "cell_type": "markdown",
      "metadata": {
        "id": "05TkveYWJgZM"
      },
      "source": [
        "### **BalancedRandomForest (Hyper-parameter Tuning)**"
      ]
    },
    {
      "cell_type": "code",
      "execution_count": 26,
      "metadata": {
        "id": "h7m9xjaxJrii",
        "colab": {
          "base_uri": "https://localhost:8080/"
        },
        "outputId": "ffab26e6-f3eb-4839-c454-b37876098f86"
      },
      "outputs": [
        {
          "output_type": "stream",
          "name": "stdout",
          "text": [
            "Fitting 5 folds for each of 16 candidates, totalling 80 fits\n"
          ]
        },
        {
          "output_type": "stream",
          "name": "stderr",
          "text": [
            "/usr/local/lib/python3.11/dist-packages/joblib/externals/loky/process_executor.py:752: UserWarning: A worker stopped while some jobs were given to the executor. This can be caused by a too short worker timeout or by a memory leak.\n",
            "  warnings.warn(\n"
          ]
        },
        {
          "output_type": "stream",
          "name": "stdout",
          "text": [
            "Best Parameters for Balanced Random Forest: {'classifier__bootstrap': True, 'classifier__max_depth': 20, 'classifier__min_samples_leaf': 1, 'classifier__min_samples_split': 10, 'classifier__n_estimators': 200}\n",
            "\n",
            "\n",
            "Balanced Random Forest Performance on Test Set:\n",
            "              precision    recall  f1-score   support\n",
            "\n",
            "           0       1.00      1.00      1.00     85295\n",
            "           1       0.62      0.84      0.71       148\n",
            "\n",
            "    accuracy                           1.00     85443\n",
            "   macro avg       0.81      0.92      0.86     85443\n",
            "weighted avg       1.00      1.00      1.00     85443\n",
            "\n"
          ]
        }
      ],
      "source": [
        "from imblearn.ensemble import BalancedRandomForestClassifier\n",
        "\n",
        "# Define the parameter grid for Balanced Random Forest\n",
        "brf_param_grid = {\n",
        "    \"classifier__n_estimators\": [100, 200],\n",
        "    \"classifier__max_depth\": [10, 20],\n",
        "    \"classifier__min_samples_split\": [5, 10],\n",
        "    \"classifier__min_samples_leaf\": [1, 2],\n",
        "    \"classifier__bootstrap\": [True]\n",
        "}\n",
        "\n",
        "# Define Balanced Random Forest Pipeline\n",
        "pipelines[\"Balanced Random Forest\"] = ImbPipeline([\n",
        "    (\"scaler\", scaler),  # Apply scaling to Amount (already defined)\n",
        "    (\"hybrid_sampling\", hybrid_sampler),  # Apply ADASYN + Undersampling\n",
        "    (\"classifier\", models[\"Balanced Random Forest\"])  # Balanced Random Forest model\n",
        "])\n",
        "\n",
        "# Run GridSearchCV for Balanced Random Forest\n",
        "grid_search_brf = GridSearchCV(\n",
        "    pipelines[\"Balanced Random Forest\"],\n",
        "    brf_param_grid,\n",
        "    cv=kf,\n",
        "    scoring=\"f1\",\n",
        "    n_jobs=-1,\n",
        "    verbose=1\n",
        ")\n",
        "\n",
        "grid_search_brf.fit(X_train, y_train)\n",
        "best_models[\"Balanced Random Forest\"] = grid_search_brf.best_estimator_\n",
        "best_params[\"Balanced Random Forest\"] = grid_search_brf.best_params_\n",
        "\n",
        "print(f\"Best Parameters for Balanced Random Forest: {grid_search_brf.best_params_}\\n\")\n",
        "\n",
        "# --- Evaluate on Test Set ---\n",
        "y_pred_brf = best_models[\"Balanced Random Forest\"].predict(X_test)\n",
        "print(\"\\nBalanced Random Forest Performance on Test Set:\")\n",
        "print(classification_report(y_test, y_pred_brf))\n"
      ]
    },
    {
      "cell_type": "markdown",
      "metadata": {
        "id": "fVPjx5Xvak7O"
      },
      "source": [
        "## **3.4. Setting up Tuned Models (Best Hyper-Parameters)**\n",
        "\n",
        "Instead of re-running all grid searches, this code rebuilds each pipeline using the optimal settings you found. For every model—Naive Bayes, Logistic Regression, Random Forest, XGBoost, LightGBM, and Balanced Random Forest—the hybrid sampling and Amount scaler steps are included in the same order, and the classifier is initialized with its best hyper-parameters. Storing these ready-to-go pipelines in best_models (and their parameter dicts in best_params) lets you jump straight to test-set evaluation without repeating the tuning process.\n",
        "\n"
      ]
    },
    {
      "cell_type": "code",
      "execution_count": 27,
      "metadata": {
        "id": "SYb_029pa45G",
        "colab": {
          "base_uri": "https://localhost:8080/",
          "height": 110
        },
        "outputId": "cd1ac175-e68b-4e9a-d979-25f933c72654"
      },
      "outputs": [
        {
          "output_type": "error",
          "ename": "SyntaxError",
          "evalue": "incomplete input (<ipython-input-27-74a44efac587>, line 10)",
          "traceback": [
            "\u001b[0;36m  File \u001b[0;32m\"<ipython-input-27-74a44efac587>\"\u001b[0;36m, line \u001b[0;32m10\u001b[0m\n\u001b[0;31m    '''best_models = {\u001b[0m\n\u001b[0m    ^\u001b[0m\n\u001b[0;31mSyntaxError\u001b[0m\u001b[0;31m:\u001b[0m incomplete input\n"
          ]
        }
      ],
      "source": [
        "from imblearn.pipeline import Pipeline as ImbPipeline\n",
        "from sklearn.naive_bayes import GaussianNB\n",
        "from sklearn.linear_model import LogisticRegression\n",
        "from sklearn.ensemble import RandomForestClassifier\n",
        "from xgboost import XGBClassifier\n",
        "from lightgbm import LGBMClassifier\n",
        "from imblearn.ensemble import BalancedRandomForestClassifier\n",
        "\n",
        "# --- Recreate best_models with tuned hyperparameters ---\n",
        "'''best_models = {\n",
        "    'Naive Bayes': ImbPipeline([\n",
        "        ('hybrid_sampling', hybrid_sampler),\n",
        "        ('scaler', scaler),\n",
        "        ('classifier', GaussianNB(var_smoothing=1e-9))\n",
        "    ]),\n",
        "    'Logistic Regression': ImbPipeline([\n",
        "        ('hybrid_sampling', hybrid_sampler),\n",
        "        ('scaler', scaler),\n",
        "        ('classifier', LogisticRegression(\n",
        "            C=0.01, solver='saga', max_iter=500,\n",
        "            class_weight='balanced', random_state=42))\n",
        "    ]),\n",
        "    'Random Forest': ImbPipeline([\n",
        "        ('hybrid_sampling', hybrid_sampler),\n",
        "        ('scaler', scaler),\n",
        "        ('classifier', RandomForestClassifier(\n",
        "            n_estimators=200, min_samples_split=5,\n",
        "            min_samples_leaf=1, max_features='sqrt',\n",
        "            class_weight='balanced', random_state=42))\n",
        "    ]),\n",
        "    'XGBoost': ImbPipeline([\n",
        "        ('scaler', scaler),\n",
        "        ('hybrid_sampling', hybrid_sampler),\n",
        "        ('classifier', XGBClassifier(\n",
        "            n_estimators=50, max_depth=9,\n",
        "            learning_rate=0.01, subsample=1.0,\n",
        "            colsample_bytree=0.8,\n",
        "            use_label_encoder=False, eval_metric='logloss',\n",
        "            random_state=42))\n",
        "    ]),\n",
        "    'LightGBM': ImbPipeline([\n",
        "        ('scaler', scaler),\n",
        "        ('hybrid_sampling', hybrid_sampler),\n",
        "        ('classifier', LGBMClassifier(\n",
        "            boosting_type='gbdt', n_estimators=200,\n",
        "            num_leaves=50, learning_rate=0.1,\n",
        "            subsample=1.0, colsample_bytree=1.0,\n",
        "            scale_pos_weight=10, random_state=42))\n",
        "    ]),\n",
        "    'Balanced Random Forest': ImbPipeline([\n",
        "        ('scaler', scaler),\n",
        "        ('hybrid_sampling', hybrid_sampler),\n",
        "        ('classifier', BalancedRandomForestClassifier(\n",
        "            n_estimators=200, max_depth=20,\n",
        "            min_samples_split=5, min_samples_leaf=1,\n",
        "            bootstrap=True, class_weight='balanced_subsample',\n",
        "            random_state=42))\n",
        "    ]),\n",
        "}\n",
        "\n",
        "# --- Recreate best_params for easy reference ---\n",
        "best_params = {\n",
        "    'Naive Bayes': {\n",
        "        'classifier__var_smoothing': 1e-9\n",
        "    },\n",
        "    'Logistic Regression': {\n",
        "        'classifier__C': 0.01,\n",
        "        'classifier__solver': 'saga',\n",
        "        'classifier__max_iter': 500\n",
        "    },\n",
        "    'Random Forest': {\n",
        "        'classifier__n_estimators': 200,\n",
        "        'classifier__max_depth': None,\n",
        "        'classifier__min_samples_split': 5,\n",
        "        'classifier__min_samples_leaf': 1,\n",
        "        'classifier__max_features': 'sqrt'\n",
        "    },\n",
        "    'XGBoost': {\n",
        "        'classifier__n_estimators': 50,\n",
        "        'classifier__max_depth': 9,\n",
        "        'classifier__learning_rate': 0.01,\n",
        "        'classifier__subsample': 1.0,\n",
        "        'classifier__colsample_bytree': 0.8\n",
        "    },\n",
        "    'LightGBM': {\n",
        "        'classifier__boosting_type': 'gbdt',\n",
        "        'classifier__n_estimators': 200,\n",
        "        'classifier__num_leaves': 50,\n",
        "        'classifier__learning_rate': 0.1,\n",
        "        'classifier__subsample': 1.0,\n",
        "        'classifier__colsample_bytree': 1.0,\n",
        "        'classifier__scale_pos_weight': 10\n",
        "    },\n",
        "    'Balanced Random Forest': {\n",
        "        'classifier__n_estimators': 200,\n",
        "        'classifier__max_depth': 20,\n",
        "        'classifier__min_samples_split': 5,\n",
        "        'classifier__min_samples_leaf': 1,\n",
        "        'classifier__bootstrap': True\n",
        "    }\n",
        "}"
      ]
    },
    {
      "cell_type": "code",
      "execution_count": 28,
      "metadata": {
        "id": "bLXMUjsknzyj",
        "colab": {
          "base_uri": "https://localhost:8080/"
        },
        "outputId": "4673c945-9bbd-4432-bd8e-77aa787ada70"
      },
      "outputs": [
        {
          "output_type": "stream",
          "name": "stdout",
          "text": [
            "{'Naive Bayes': Pipeline(steps=[('hybrid_sampling',\n",
            "                 FunctionSampler(func=<function apply_hybrid_sampling at 0x7b36177723e0>,\n",
            "                                 validate=False)),\n",
            "                ('scaler',\n",
            "                 ColumnTransformer(remainder='passthrough',\n",
            "                                   transformers=[('scaler', StandardScaler(),\n",
            "                                                  ['Amount'])])),\n",
            "                ('classifier', GaussianNB())]), 'Logistic Regression': Pipeline(steps=[('hybrid_sampling',\n",
            "                 FunctionSampler(func=<function apply_hybrid_sampling at 0x7b36177723e0>,\n",
            "                                 validate=False)),\n",
            "                ('scaler',\n",
            "                 ColumnTransformer(remainder='passthrough',\n",
            "                                   transformers=[('scaler', StandardScaler(),\n",
            "                                                  ['Amount'])])),\n",
            "                ('classifier',\n",
            "                 LogisticRegression(C=0.01, class_weight='balanced',\n",
            "                                    max_iter=500, random_state=42,\n",
            "                                    solver='saga'))]), 'Random Forest': Pipeline(steps=[('hybrid_sampling',\n",
            "                 FunctionSampler(func=<function apply_hybrid_sampling at 0x7b36177723e0>,\n",
            "                                 validate=False)),\n",
            "                ('scaler',\n",
            "                 ColumnTransformer(remainder='passthrough',\n",
            "                                   transformers=[('scaler', StandardScaler(),\n",
            "                                                  ['Amount'])])),\n",
            "                ('classifier',\n",
            "                 RandomForestClassifier(class_weight='balanced',\n",
            "                                        random_state=42))]), 'XGBoost': Pipeline(steps=[('scaler',\n",
            "                 ColumnTransformer(remainder='passthrough',\n",
            "                                   transformers=[('scaler', StandardScaler(),\n",
            "                                                  ['Amount'])])),\n",
            "                ('hybrid_sampling',\n",
            "                 FunctionSampler(func=<function apply_hybrid_sampling at 0x7b36177723e0>,\n",
            "                                 validate=False)),\n",
            "                ('classifier',\n",
            "                 XGBClassifier(base_score=None, booster=None, callbacks=None,\n",
            "                               colsample_bylevel=None, colsample_bynode=None,\n",
            "                               cols...\n",
            "                               feature_types=None, gamma=None, grow_policy=None,\n",
            "                               importance_type=None,\n",
            "                               interaction_constraints=None, learning_rate=0.1,\n",
            "                               max_bin=None, max_cat_threshold=None,\n",
            "                               max_cat_to_onehot=None, max_delta_step=None,\n",
            "                               max_depth=9, max_leaves=None,\n",
            "                               min_child_weight=None, missing=nan,\n",
            "                               monotone_constraints=None, multi_strategy=None,\n",
            "                               n_estimators=200, n_jobs=None,\n",
            "                               num_parallel_tree=None, random_state=42, ...))]), 'LightGBM': Pipeline(steps=[('scaler',\n",
            "                 ColumnTransformer(remainder='passthrough',\n",
            "                                   transformers=[('scaler', StandardScaler(),\n",
            "                                                  ['Amount'])])),\n",
            "                ('hybrid_sampling',\n",
            "                 FunctionSampler(func=<function apply_hybrid_sampling at 0x7b36177723e0>,\n",
            "                                 validate=False)),\n",
            "                ('classifier',\n",
            "                 LGBMClassifier(n_estimators=200, num_leaves=50,\n",
            "                                objective='binary', random_state=42,\n",
            "                                scale_pos_weight=10))]), 'Balanced Random Forest': Pipeline(steps=[('scaler',\n",
            "                 ColumnTransformer(remainder='passthrough',\n",
            "                                   transformers=[('scaler', StandardScaler(),\n",
            "                                                  ['Amount'])])),\n",
            "                ('hybrid_sampling',\n",
            "                 FunctionSampler(func=<function apply_hybrid_sampling at 0x7b36177723e0>,\n",
            "                                 validate=False)),\n",
            "                ('classifier',\n",
            "                 BalancedRandomForestClassifier(bootstrap=True,\n",
            "                                                class_weight='balanced_subsample',\n",
            "                                                max_depth=20,\n",
            "                                                min_samples_split=10,\n",
            "                                                n_estimators=200,\n",
            "                                                random_state=42))])}\n"
          ]
        }
      ],
      "source": [
        "print(best_models)"
      ]
    },
    {
      "cell_type": "code",
      "execution_count": 29,
      "metadata": {
        "id": "H87fnSLo6tzc",
        "colab": {
          "base_uri": "https://localhost:8080/"
        },
        "outputId": "662d1a66-0e0e-4f97-8396-3bf2676a7454"
      },
      "outputs": [
        {
          "output_type": "stream",
          "name": "stdout",
          "text": [
            "{'Naive Bayes': {'classifier__var_smoothing': 1e-09}, 'Logistic Regression': {'classifier__C': 0.01, 'classifier__max_iter': 500, 'classifier__solver': 'saga'}, 'Random Forest': {'classifier__max_depth': None, 'classifier__max_features': 'sqrt', 'classifier__min_samples_leaf': 1, 'classifier__min_samples_split': 2, 'classifier__n_estimators': 100}, 'XGBoost': {'classifier__colsample_bytree': 0.8, 'classifier__learning_rate': 0.1, 'classifier__max_depth': 9, 'classifier__n_estimators': 200, 'classifier__subsample': 0.8}, 'LightGBM': {'classifier__boosting_type': 'gbdt', 'classifier__colsample_bytree': 1.0, 'classifier__learning_rate': 0.1, 'classifier__max_depth': -1, 'classifier__n_estimators': 200, 'classifier__num_leaves': 50, 'classifier__scale_pos_weight': 10, 'classifier__subsample': 1.0}, 'Balanced Random Forest': {'classifier__bootstrap': True, 'classifier__max_depth': 20, 'classifier__min_samples_leaf': 1, 'classifier__min_samples_split': 10, 'classifier__n_estimators': 200}}\n"
          ]
        }
      ],
      "source": [
        "print(best_params)"
      ]
    },
    {
      "cell_type": "code",
      "execution_count": 30,
      "metadata": {
        "id": "IQBHLZS_b1vf",
        "colab": {
          "base_uri": "https://localhost:8080/"
        },
        "outputId": "42e3b6a8-b95b-4501-e335-22240a4c57fe"
      },
      "outputs": [
        {
          "output_type": "stream",
          "name": "stderr",
          "text": [
            "/usr/local/lib/python3.11/dist-packages/sklearn/linear_model/_sag.py:348: ConvergenceWarning: The max_iter was reached which means the coef_ did not converge\n",
            "  warnings.warn(\n",
            "/usr/local/lib/python3.11/dist-packages/xgboost/core.py:158: UserWarning: [18:05:15] WARNING: /workspace/src/learner.cc:740: \n",
            "Parameters: { \"use_label_encoder\" } are not used.\n",
            "\n",
            "  warnings.warn(smsg, UserWarning)\n",
            "/usr/local/lib/python3.11/dist-packages/sklearn/utils/deprecation.py:151: FutureWarning: 'force_all_finite' was renamed to 'ensure_all_finite' in 1.6 and will be removed in 1.8.\n",
            "  warnings.warn(\n"
          ]
        },
        {
          "output_type": "stream",
          "name": "stdout",
          "text": [
            "[LightGBM] [Info] Number of positive: 39744, number of negative: 79488\n",
            "[LightGBM] [Info] Auto-choosing col-wise multi-threading, the overhead of testing was 0.021331 seconds.\n",
            "You can set `force_col_wise=true` to remove the overhead.\n",
            "[LightGBM] [Info] Total Bins 4845\n",
            "[LightGBM] [Info] Number of data points in the train set: 119232, number of used features: 19\n",
            "[LightGBM] [Info] [binary:BoostFromScore]: pavg=0.333333 -> initscore=-0.693147\n",
            "[LightGBM] [Info] Start training from score -0.693147\n"
          ]
        }
      ],
      "source": [
        "for name, pipe in best_models.items():\n",
        "    pipe.fit(X_train, y_train)\n"
      ]
    },
    {
      "cell_type": "markdown",
      "metadata": {
        "id": "CBH2OstN8ejB"
      },
      "source": [
        "# **4. Final Run for all Models**\n"
      ]
    },
    {
      "cell_type": "markdown",
      "metadata": {
        "id": "Dh5lQ_AY6T0U"
      },
      "source": [
        "## **Naive Bayes**"
      ]
    },
    {
      "cell_type": "code",
      "execution_count": 31,
      "metadata": {
        "id": "PB4VH88P6Vw5",
        "colab": {
          "base_uri": "https://localhost:8080/",
          "height": 765
        },
        "outputId": "22607813-b454-408f-ed97-ff8215780d40"
      },
      "outputs": [
        {
          "output_type": "stream",
          "name": "stdout",
          "text": [
            "\n",
            "=== Naive Bayes — Test-set performance ===\n",
            "              precision    recall  f1-score   support\n",
            "\n",
            "           0      1.000     0.995     0.997     85295\n",
            "           1      0.219     0.797     0.343       148\n",
            "\n",
            "    accuracy                          0.995     85443\n",
            "   macro avg      0.609     0.896     0.670     85443\n",
            "weighted avg      0.998     0.995     0.996     85443\n",
            "\n"
          ]
        },
        {
          "output_type": "display_data",
          "data": {
            "text/plain": [
              "<Figure size 800x600 with 1 Axes>"
            ],
            "image/png": "[encoded data removed]"
          },
          "metadata": {}
        }
      ],
      "source": [
        "# === Final Test Evaluation: Naïve Bayes ===\n",
        "model_name = \"Naive Bayes\"\n",
        "model = best_models[model_name]\n",
        "\n",
        "y_pred = model.predict(X_test)\n",
        "y_scores = model.predict_proba(X_test)[:, 1]\n",
        "\n",
        "print(f\"\\n=== {model_name} — Test-set performance ===\")\n",
        "print(classification_report(y_test, y_pred, digits=3))\n",
        "\n",
        "precision, recall, _ = precision_recall_curve(y_test, y_scores)\n",
        "ap = average_precision_score(y_test, y_scores)\n",
        "\n",
        "plt.figure(figsize=(8, 6))\n",
        "plt.plot(recall, precision, label=f\"AP = {ap:.3f}\", color=\"purple\")\n",
        "plt.xlabel(\"Recall\")\n",
        "plt.ylabel(\"Precision\")\n",
        "plt.title(f\"Precision–Recall Curve — {model_name}\")\n",
        "plt.legend()\n",
        "plt.grid(True)\n",
        "plt.show()\n"
      ]
    },
    {
      "cell_type": "markdown",
      "metadata": {
        "id": "dLCr0ckP6Xuz"
      },
      "source": [
        "## **Logistic Regression**"
      ]
    },
    {
      "cell_type": "code",
      "execution_count": 32,
      "metadata": {
        "id": "S2Z5sHgl6Zj6",
        "colab": {
          "base_uri": "https://localhost:8080/",
          "height": 765
        },
        "outputId": "1e0422b9-a0aa-4182-a6bb-ea4ee21ff4d9"
      },
      "outputs": [
        {
          "output_type": "stream",
          "name": "stdout",
          "text": [
            "\n",
            "=== Logistic Regression — Test-set performance ===\n",
            "              precision    recall  f1-score   support\n",
            "\n",
            "           0      0.999     0.997     0.998     85295\n",
            "           1      0.273     0.547     0.364       148\n",
            "\n",
            "    accuracy                          0.997     85443\n",
            "   macro avg      0.636     0.772     0.681     85443\n",
            "weighted avg      0.998     0.997     0.997     85443\n",
            "\n"
          ]
        },
        {
          "output_type": "display_data",
          "data": {
            "text/plain": [
              "<Figure size 800x600 with 1 Axes>"
            ],
            "image/png": "[encoded data removed]"
          },
          "metadata": {}
        }
      ],
      "source": [
        "# === Final Test Evaluation: Logistic Regression ===\n",
        "model_name = \"Logistic Regression\"\n",
        "model = best_models[model_name]\n",
        "\n",
        "y_pred = model.predict(X_test)\n",
        "y_scores = model.predict_proba(X_test)[:, 1]\n",
        "\n",
        "print(f\"\\n=== {model_name} — Test-set performance ===\")\n",
        "print(classification_report(y_test, y_pred, digits=3))\n",
        "\n",
        "precision, recall, _ = precision_recall_curve(y_test, y_scores)\n",
        "ap = average_precision_score(y_test, y_scores)\n",
        "\n",
        "plt.figure(figsize=(8, 6))\n",
        "plt.plot(recall, precision, label=f\"AP = {ap:.3f}\", color=\"purple\")\n",
        "plt.xlabel(\"Recall\")\n",
        "plt.ylabel(\"Precision\")\n",
        "plt.title(f\"Precision–Recall Curve — {model_name}\")\n",
        "plt.legend()\n",
        "plt.grid(True)\n",
        "plt.show()\n"
      ]
    },
    {
      "cell_type": "markdown",
      "metadata": {
        "id": "I5YibAIT6gNV"
      },
      "source": [
        "## **Random Forest**"
      ]
    },
    {
      "cell_type": "code",
      "execution_count": 33,
      "metadata": {
        "id": "uGvB_GHX6fff",
        "colab": {
          "base_uri": "https://localhost:8080/",
          "height": 765
        },
        "outputId": "95bf6dd2-a7a0-4f45-fc66-57dd82e0c862"
      },
      "outputs": [
        {
          "output_type": "stream",
          "name": "stdout",
          "text": [
            "\n",
            "=== Random Forest — Test-set performance ===\n",
            "              precision    recall  f1-score   support\n",
            "\n",
            "           0      1.000     1.000     1.000     85295\n",
            "           1      0.779     0.811     0.795       148\n",
            "\n",
            "    accuracy                          0.999     85443\n",
            "   macro avg      0.889     0.905     0.897     85443\n",
            "weighted avg      0.999     0.999     0.999     85443\n",
            "\n"
          ]
        },
        {
          "output_type": "display_data",
          "data": {
            "text/plain": [
              "<Figure size 800x600 with 1 Axes>"
            ],
            "image/png": "[encoded data removed]"
          },
          "metadata": {}
        }
      ],
      "source": [
        "# === Final Test Evaluation: Random Forest ===\n",
        "model_name = \"Random Forest\"\n",
        "model = best_models[model_name]\n",
        "\n",
        "y_pred = model.predict(X_test)\n",
        "y_scores = model.predict_proba(X_test)[:, 1]\n",
        "\n",
        "print(f\"\\n=== {model_name} — Test-set performance ===\")\n",
        "print(classification_report(y_test, y_pred, digits=3))\n",
        "\n",
        "precision, recall, _ = precision_recall_curve(y_test, y_scores)\n",
        "ap = average_precision_score(y_test, y_scores)\n",
        "\n",
        "plt.figure(figsize=(8, 6))\n",
        "plt.plot(recall, precision, label=f\"AP = {ap:.3f}\", color=\"purple\")\n",
        "plt.xlabel(\"Recall\")\n",
        "plt.ylabel(\"Precision\")\n",
        "plt.title(f\"Precision–Recall Curve — {model_name}\")\n",
        "plt.legend()\n",
        "plt.grid(True)\n",
        "plt.show()\n"
      ]
    },
    {
      "cell_type": "markdown",
      "metadata": {
        "id": "jGNcmcxP6jqv"
      },
      "source": [
        "## **XGBoost**"
      ]
    },
    {
      "cell_type": "code",
      "execution_count": 34,
      "metadata": {
        "id": "uI6ep_cJ6k0K",
        "colab": {
          "base_uri": "https://localhost:8080/",
          "height": 765
        },
        "outputId": "50f56102-9b06-4991-c4a7-0353f930ef87"
      },
      "outputs": [
        {
          "output_type": "stream",
          "name": "stdout",
          "text": [
            "\n",
            "=== XGBoost — Test-set performance ===\n",
            "              precision    recall  f1-score   support\n",
            "\n",
            "           0      1.000     0.999     1.000     85295\n",
            "           1      0.722     0.824     0.770       148\n",
            "\n",
            "    accuracy                          0.999     85443\n",
            "   macro avg      0.861     0.912     0.885     85443\n",
            "weighted avg      0.999     0.999     0.999     85443\n",
            "\n"
          ]
        },
        {
          "output_type": "display_data",
          "data": {
            "text/plain": [
              "<Figure size 800x600 with 1 Axes>"
            ],
            "image/png": "[encoded data removed]"
          },
          "metadata": {}
        }
      ],
      "source": [
        "# === Final Test Evaluation: XGBoost ===\n",
        "model_name = \"XGBoost\"\n",
        "model = best_models[model_name]\n",
        "\n",
        "y_pred = model.predict(X_test)\n",
        "y_scores = model.predict_proba(X_test)[:, 1]\n",
        "\n",
        "print(f\"\\n=== {model_name} — Test-set performance ===\")\n",
        "print(classification_report(y_test, y_pred, digits=3))\n",
        "\n",
        "precision, recall, _ = precision_recall_curve(y_test, y_scores)\n",
        "ap = average_precision_score(y_test, y_scores)\n",
        "\n",
        "plt.figure(figsize=(8, 6))\n",
        "plt.plot(recall, precision, label=f\"AP = {ap:.3f}\", color=\"purple\")\n",
        "plt.xlabel(\"Recall\")\n",
        "plt.ylabel(\"Precision\")\n",
        "plt.title(f\"Precision–Recall Curve — {model_name}\")\n",
        "plt.legend()\n",
        "plt.grid(True)\n",
        "plt.show()\n"
      ]
    },
    {
      "cell_type": "markdown",
      "metadata": {
        "id": "ddKsV2UQiAAc"
      },
      "source": [
        "## **LightGBM**"
      ]
    },
    {
      "cell_type": "code",
      "execution_count": 35,
      "metadata": {
        "id": "ZuzVDtkJh-if",
        "colab": {
          "base_uri": "https://localhost:8080/",
          "height": 838
        },
        "outputId": "2b650caa-2083-433d-b5fb-57e06de4e339"
      },
      "outputs": [
        {
          "output_type": "stream",
          "name": "stderr",
          "text": [
            "/usr/local/lib/python3.11/dist-packages/sklearn/utils/deprecation.py:151: FutureWarning: 'force_all_finite' was renamed to 'ensure_all_finite' in 1.6 and will be removed in 1.8.\n",
            "  warnings.warn(\n",
            "/usr/local/lib/python3.11/dist-packages/sklearn/utils/deprecation.py:151: FutureWarning: 'force_all_finite' was renamed to 'ensure_all_finite' in 1.6 and will be removed in 1.8.\n",
            "  warnings.warn(\n"
          ]
        },
        {
          "output_type": "stream",
          "name": "stdout",
          "text": [
            "\n",
            "=== LightGBM — Test‑set performance ===\n",
            "              precision    recall  f1-score   support\n",
            "\n",
            "           0      1.000     0.999     1.000     85295\n",
            "           1      0.732     0.811     0.769       148\n",
            "\n",
            "    accuracy                          0.999     85443\n",
            "   macro avg      0.866     0.905     0.884     85443\n",
            "weighted avg      0.999     0.999     0.999     85443\n",
            "\n"
          ]
        },
        {
          "output_type": "display_data",
          "data": {
            "text/plain": [
              "<Figure size 800x600 with 1 Axes>"
            ],
            "image/png": "[encoded data removed]"
          },
          "metadata": {}
        }
      ],
      "source": [
        "# ------------------------------------------------------------\n",
        "# Final test‑set evaluation for a single tuned model\n",
        "# ------------------------------------------------------------\n",
        "from sklearn.metrics import classification_report, precision_recall_curve, average_precision_score\n",
        "import matplotlib.pyplot as plt\n",
        "\n",
        "# Choose the model you want to evaluate\n",
        "model_name = \"LightGBM\"                 # <-- change to \"XGBoost\", \"RandomForest\", ...\n",
        "model      = best_models[model_name]    # already refit by GridSearchCV\n",
        "\n",
        "# Predict class labels and fraud probabilities on the test set\n",
        "y_pred   = model.predict(X_test)\n",
        "y_scores = model.predict_proba(X_test)[:, 1]\n",
        "\n",
        "# Print standard metrics\n",
        "print(f\"\\n=== {model_name} — Test‑set performance ===\")\n",
        "print(classification_report(y_test, y_pred, digits=3))\n",
        "\n",
        "# Precision–Recall curve and Average Precision (AUPRC)\n",
        "precision, recall, _ = precision_recall_curve(y_test, y_scores)\n",
        "ap = average_precision_score(y_test, y_scores)\n",
        "\n",
        "plt.figure(figsize=(8, 6))\n",
        "plt.plot(recall, precision, label=f\"AP = {ap:.3f}\", color=\"purple\")\n",
        "plt.xlabel(\"Recall\")\n",
        "plt.ylabel(\"Precision\")\n",
        "plt.title(f\"Precision–Recall Curve — {model_name}\")\n",
        "plt.legend()\n",
        "plt.grid(True)\n",
        "plt.show()"
      ]
    },
    {
      "cell_type": "markdown",
      "metadata": {
        "id": "XCJzmRzW6pGo"
      },
      "source": [
        "## **Balanced Random Forest**\n"
      ]
    },
    {
      "cell_type": "code",
      "execution_count": 36,
      "metadata": {
        "id": "uzOFiv1_6q1n",
        "colab": {
          "base_uri": "https://localhost:8080/",
          "height": 765
        },
        "outputId": "19557bd5-95f9-4e1d-e282-66c9f9573ada"
      },
      "outputs": [
        {
          "output_type": "stream",
          "name": "stdout",
          "text": [
            "\n",
            "=== Balanced Random Forest — Test-set performance ===\n",
            "              precision    recall  f1-score   support\n",
            "\n",
            "           0      1.000     0.999     0.999     85295\n",
            "           1      0.617     0.838     0.711       148\n",
            "\n",
            "    accuracy                          0.999     85443\n",
            "   macro avg      0.808     0.918     0.855     85443\n",
            "weighted avg      0.999     0.999     0.999     85443\n",
            "\n"
          ]
        },
        {
          "output_type": "display_data",
          "data": {
            "text/plain": [
              "<Figure size 800x600 with 1 Axes>"
            ],
            "image/png": "[encoded data removed]"
          },
          "metadata": {}
        }
      ],
      "source": [
        "# === Final Test Evaluation: Balanced Random Forest ===\n",
        "model_name = \"Balanced Random Forest\"\n",
        "model = best_models[model_name]\n",
        "\n",
        "y_pred = model.predict(X_test)\n",
        "y_scores = model.predict_proba(X_test)[:, 1]\n",
        "\n",
        "print(f\"\\n=== {model_name} — Test-set performance ===\")\n",
        "print(classification_report(y_test, y_pred, digits=3))\n",
        "\n",
        "precision, recall, _ = precision_recall_curve(y_test, y_scores)\n",
        "ap = average_precision_score(y_test, y_scores)\n",
        "\n",
        "plt.figure(figsize=(8, 6))\n",
        "plt.plot(recall, precision, label=f\"AP = {ap:.3f}\", color=\"purple\")\n",
        "plt.xlabel(\"Recall\")\n",
        "plt.ylabel(\"Precision\")\n",
        "plt.title(f\"Precision–Recall Curve — {model_name}\")\n",
        "plt.legend()\n",
        "plt.grid(True)\n",
        "plt.show()\n"
      ]
    },
    {
      "cell_type": "markdown",
      "metadata": {
        "id": "Qeozw_bsAruY"
      },
      "source": [
        "# **5. Analyzing Results (Models' Performance)**\n",
        "\n",
        "- **Naïve Bayes**  \n",
        "  Despite perfect majority-class accuracy, the fraud-class precision is only approximately 22%—meaning most “fraud” alerts would be false alarms—while recall is approximately 80%, so it catches many real frauds but at a high cost.\n",
        "\n",
        "- **Logistic Regression**  \n",
        "  Balancing precision (approximately 27%) and recall (approximately 55%) yields a modest F1 of approximately 0.36. This linear model handles the imbalance better than Naïve Bayes but still misses nearly half of fraud cases.\n",
        "\n",
        "- **Random Forest**  \n",
        "  Achieves strong precision (approximately 77%) and recall (approximately 82%), giving an F1 of approximately 0.80. It offers the most reliable, well-rounded detection, with very few false positives and negatives.\n",
        "\n",
        "- **XGBoost**  \n",
        "  Slightly lower precision (approximately 71%) than RF but matching recall (approximately 80%), for an F1 around 0.75. Its average precision (approximately 0.88) indicates excellent ranking of high-risk transactions across thresholds.\n",
        "\n",
        "- **LightGBM**  \n",
        "  Precision of approximately 73% and recall of approximately 81% (F1 approximately 0.77) combine with the highest AUPRC (approximately 0.89). This makes it the most robust when threshold decisions may change in production.\n",
        "\n",
        "- **Balanced Random Forest**  \n",
        "  Prioritizes catching fraud (recall approximately 84%) at some expense of precision (approximately 62%), F1 approximately 0.71. Best when missing a single fraud costs more than investigating extra alerts.\n",
        "\n",
        "**Overall comparison:**  \n",
        "Ensemble methods—especially Random Forest, XGBoost, and LightGBM—dramatically outstrip the linear and naïve baselines on fraud detection. Random Forest provides the best balance of precision and recall; LightGBM is the most reliable across decision thresholds; and Balanced Random Forest is the go-to when maximizing fraud recall is the top priority.  \n"
      ]
    }
  ],
  "metadata": {
    "colab": {
      "provenance": [],
      "gpuType": "T4",
      "mount_file_id": "1ZKMa7oq8vsL8bJJtK1p2qBgKnJCmWf63",
      "authorship_tag": "ABX9TyOhAbVpNRyAR8Bq3WlNSF0X",
      "include_colab_link": true
    },
    "kernelspec": {
      "display_name": "Python 3",
      "name": "python3"
    },
    "language_info": {
      "name": "python"
    },
    "accelerator": "GPU"
  },
  "nbformat": 4,
  "nbformat_minor": 0
}